{
  "cells": [
    {
      "metadata": {
        "_uuid": "8f2839f25d086af736a60e9eeb907d3b93b6e0e5",
        "_cell_guid": "b1076dfc-b9ad-4769-8c92-a6c4dae69d19",
        "trusted": true
      },
      "cell_type": "code",
      "source": "import os\nimport json\nimport numpy as np\nimport pandas as pd\nfrom pandas.io.json import json_normalize\nimport matplotlib\nimport matplotlib.pyplot as plt\nimport seaborn as sns\nimport datetime\nget_ipython().run_line_magic('matplotlib', 'inline')\n\nfrom plotly import tools\nimport plotly.offline as py\npy.init_notebook_mode(connected=True)\nimport plotly.graph_objs as go\n\nfrom sklearn.model_selection import train_test_split\nfrom sklearn import model_selection, preprocessing, metrics\nimport lightgbm as lgb",
      "execution_count": 1,
      "outputs": [
        {
          "output_type": "display_data",
          "data": {
            "text/html": "<script>requirejs.config({paths: { 'plotly': ['https://cdn.plot.ly/plotly-latest.min']},});if(!window.Plotly) {{require(['plotly'],function(plotly) {window.Plotly=plotly;});}}</script>",
            "text/vnd.plotly.v1+html": "<script>requirejs.config({paths: { 'plotly': ['https://cdn.plot.ly/plotly-latest.min']},});if(!window.Plotly) {{require(['plotly'],function(plotly) {window.Plotly=plotly;});}}</script>"
          },
          "metadata": {}
        }
      ]
    },
    {
      "metadata": {
        "_uuid": "35f6c898b7b663a38c9540fc9400e592eab4ad55"
      },
      "cell_type": "markdown",
      "source": "Reading data. Turning JAVA objects into dataframe's columns.\n\n** Caveat: Here I consut a small part of code of SRK user on Kaggle to read the file. I think this is not a big significant part of the homework, and I think that this is the only way to read JSON object. Website: https://www.kaggle.com/sudalairajkumar/simple-exploration-baseline-ga-customer-revenue"
    },
    {
      "metadata": {
        "_cell_guid": "79c7e3d0-c299-4dcb-8224-4455121ee9b0",
        "_uuid": "d629ff2d2480ee46fbb7e2d37f6b5fab8052498a",
        "trusted": true,
        "scrolled": true
      },
      "cell_type": "code",
      "source": "# Read Data\ndef load_df(csv_path, nrows=None):\n    JSON_COLUMNS = ['device', 'geoNetwork', 'totals', 'trafficSource']\n    \n    df = pd.read_csv(csv_path, \n                     converters={column: json.loads for column in JSON_COLUMNS}, \n                     dtype={'fullVisitorId': 'str'}, # Important!!\n                     nrows=nrows)\n    \n    for column in JSON_COLUMNS:\n        column_as_df = json_normalize(df[column])\n        column_as_df.columns = [f\"{column}.{subcolumn}\" for subcolumn in column_as_df.columns]\n        df = df.drop(column, axis=1).merge(column_as_df, right_index=True, left_index=True)\n    print(f\"Loaded {os.path.basename(csv_path)}. Shape: {df.shape}\")\n    return df\n\ntrain_df = load_df(\"../input/ga-customer-revenue-prediction/train.csv\")\ntest_df = load_df(\"../input/ga-customer-revenue-prediction/test.csv\")\n\n# train_df = pd.read_csv('../input/train_processed.csv')\n# test_df = pd.read_csv('../input/test_processed.csv')",
      "execution_count": 2,
      "outputs": [
        {
          "output_type": "stream",
          "text": "Loaded train.csv. Shape: (903653, 55)\nLoaded test.csv. Shape: (804684, 53)\n",
          "name": "stdout"
        }
      ]
    },
    {
      "metadata": {
        "_uuid": "8e43e03ec3fb75e8f5756b4a38e72ea58a21c2a7"
      },
      "cell_type": "markdown",
      "source": "**Question 1:**\nPreprocessing data. Including following steps:\n    - Omitting columns that have constant values across all samples\n    - Filling NaN in \"totals.transactionRevenue\" column\n    - Processing timestamp data from POSIX format to date-time format. And then compute useful features from them.\n    - Turning category features to numbers by factorizing them. (this step will be introduced more in details below)\n    "
    },
    {
      "metadata": {
        "trusted": true,
        "_uuid": "881b9e5bf7df6751b334aee56c15bd30998f9896"
      },
      "cell_type": "code",
      "source": "# In[]\n# Preprocessing\n\n# Replacing NaN values with 0\ntrain_df[\"totals.transactionRevenue\"] = train_df[\"totals.transactionRevenue\"].fillna(0)\ntrain_df['totals.transactionRevenue'] = train_df['totals.transactionRevenue'].astype(float)\n\n# Omitting columns having constant values\nconstant_cols = []\nfor c in train_df.columns:\n    if train_df[c].nunique(dropna=False)==1:\n        np.append(constant_cols,c)\nconstant_cols\nfor c in constant_cols:\n    train_df = train_df.drop([c], axis = 1)\n    test_df = test_df.drop([c], axis = 1)\n\n# Read date and timestamp data\ntrain_df['date_translated'] = train_df['date'].apply(lambda x: datetime.date(int(str(x)[:4]), int(str(x)[4:6]), int(str(x)[6:])))\ntrain_df['visitStartTime_translated'] = [datetime.datetime.fromtimestamp(t) for t in train_df['visitStartTime'] ]\ntest_df['date_translated'] = test_df['date'].apply(lambda x: datetime.date(int(str(x)[:4]), int(str(x)[4:6]), int(str(x)[6:])))\ntest_df['visitStartTime_translated'] = [datetime.datetime.fromtimestamp(t) for t in test_df['visitStartTime'] ]\n\n# Getting more information from date-time data\ntrain_df['visit_month'] = train_df['visitStartTime_translated'].dt.month\ntrain_df['visit_hour'] = train_df['visitStartTime_translated'].dt.hour\ntest_df['visit_month'] = test_df['visitStartTime_translated'].dt.month\ntest_df['visit_hour'] = test_df['visitStartTime_translated'].dt.hour\n\n",
      "execution_count": 3,
      "outputs": []
    },
    {
      "metadata": {
        "_uuid": "85ba08e355053f11a9ae3d092e69a585e2e98830"
      },
      "cell_type": "markdown",
      "source": "**Question 2:**\n\na) Generating heatmap of the session \"Visiting Time\" (in terms of month and hour) and \"Transaction Revenue\":\n\nWe find that there are a great correlation in the visit time and the revenue in terms of hour. Most of the revenue are created in the afternoon to midnight.This is quite easy to understand, since nobody visit GStore in the middle of the night (1am - 5am), and also, in the morning since they have to go to work.\n\nIn terms of month, we find there are a great demand in December, which must be because of Christmas. Indeed, at this time of the year, people still buy from GStore up to 2-3am in the morning.\n"
    },
    {
      "metadata": {
        "trusted": true,
        "_uuid": "784548c65f3d3c38e12a5407f6a58e2071525376"
      },
      "cell_type": "code",
      "source": "# Heatmap\ntrain_df['visit_month'] = train_df['visitStartTime_translated'].dt.month\ntrain_df['visit_hour'] = train_df['visitStartTime_translated'].dt.hour\ntrain_df['totals.transactionRevenue_log'] = np.log1p(train_df['totals.transactionRevenue'].astype(float))\npivot_table = train_df.pivot_table('totals.transactionRevenue_log', index='visit_hour', columns='visit_month', aggfunc=np.sum)\nax = sns.heatmap(pivot_table)",
      "execution_count": 4,
      "outputs": [
        {
          "output_type": "display_data",
          "data": {
            "text/plain": "<Figure size 432x288 with 2 Axes>",
            "image/png": "[encoded data removed]"
          },
          "metadata": {
            "needs_background": "light"
          }
        }
      ]
    },
    {
      "metadata": {
        "_uuid": "e5b608885b58490c7a08dd3a01aaf4e2a05468f1"
      },
      "cell_type": "markdown",
      "source": "We cluster data under many category (browser, device category, OS system,...) to see how these information affect the buying decision of customers.\n\n** Caveat: The idea of clustering these variables come from the idea of user SRK on Kaggle. This is a very interesting idea and insights. Therefore, I use this idea. I did consult a small part of his code to derive my own implementation. \n"
    },
    {
      "metadata": {
        "trusted": true,
        "scrolled": true,
        "_uuid": "f746e17a5176d499f058070a84331c282cd8a089"
      },
      "cell_type": "code",
      "source": "# Defining function for plotting\ndef horizontal_bar_chart(df):\n    bar_chart = go.Bar(\n        y=df.index[::-1],\n        x=df.values[::-1],\n        showlegend=False,\n        orientation = 'h',\n        marker=dict(\n            color='green',\n        ),        \n    )\n    # bar_chart.set_yticklabels(df.index)   \n    return bar_chart\n\n# Clustering data\ntrain_df['transactionRevenue_non_zero'] = train_df['totals.transactionRevenue']>0\n# Cluster by devices\n# browser\ncluster_info = train_df.groupby('device.browser').agg({'transactionRevenue_non_zero':'sum', 'totals.transactionRevenue':['mean']})\ncluster_info.columns = [\"count of non-zero revenue\", \"average\"]\ncluster_info = cluster_info.sort_values(by=\"count of non-zero revenue\", ascending=False)\nbar_chart_browser_count = horizontal_bar_chart(cluster_info[\"count of non-zero revenue\"].head(10))\nbar_chart_browser_mean = horizontal_bar_chart(cluster_info[\"average\"].head(10))\n# deviceCategory\ncluster_info = train_df.groupby('device.deviceCategory').agg({'transactionRevenue_non_zero':'sum', 'totals.transactionRevenue':['mean']})\ncluster_info.columns = [\"count of non-zero revenue\", \"average\"]\ncluster_info = cluster_info.sort_values(by=\"count of non-zero revenue\", ascending=False)\nbar_chart_deviceCategory_count = horizontal_bar_chart(cluster_info[\"count of non-zero revenue\"].head(10))\nbar_chart_deviceCategory_mean = horizontal_bar_chart(cluster_info[\"average\"].head(10))\n# operatingSystem\ncluster_info = train_df.groupby('device.operatingSystem').agg({'transactionRevenue_non_zero':'sum', 'totals.transactionRevenue':['mean']})\ncluster_info.columns = [\"count of non-zero revenue\", \"average\"]\ncluster_info = cluster_info.sort_values(by=\"count of non-zero revenue\", ascending=False)\nbar_chart_operatingSystem_count = horizontal_bar_chart(cluster_info[\"count of non-zero revenue\"].head(10))\nbar_chart_operatingSystem_mean = horizontal_bar_chart(cluster_info[\"average\"].head(10))\n\n\n\nfigure = tools.make_subplots(rows=3, cols=2, vertical_spacing=0.1, \n                                         subplot_titles=[\"Device Browser - Count of Non-zero Revenue Transaction\", \"Device Browser - Average Revenue\",\n                                          \"Device Category - Count of Non-zero Revenue Transaction\", \"Device Category - Average Revenue\", \n                                          \"Device OS - Count of Non-zero Revenue Transaction\", \"Device OS - Average Revenue\"])\nfigure.append_trace(bar_chart_browser_count, 1, 1)\nfigure.append_trace(bar_chart_browser_mean, 1, 2)\nfigure.append_trace(bar_chart_deviceCategory_count, 2, 1)\nfigure.append_trace(bar_chart_deviceCategory_mean, 2, 2)\nfigure.append_trace(bar_chart_operatingSystem_count, 3, 1)\nfigure.append_trace(bar_chart_operatingSystem_mean, 3, 2)\nfigure['layout'].update(height=1000, width=1400, paper_bgcolor='rgb(233,233,233)', title=\"Device Statistics\")\npy.iplot(figure, filename='device-plots')",
      "execution_count": 5,
      "outputs": [
        {
          "output_type": "stream",
          "text": "This is the format of your plot grid:\n[ (1,1) x1,y1 ]  [ (1,2) x2,y2 ]\n[ (2,1) x3,y3 ]  [ (2,2) x4,y4 ]\n[ (3,1) x5,y5 ]  [ (3,2) x6,y6 ]\n\n",
          "name": "stdout"
        },
        {
          "output_type": "display_data",
          "data": {
            "application/vnd.plotly.v1+json": {
              "data": [
                {
                  "marker": {
                    "color": "green"
                  },
                  "orientation": "h",
                  "showlegend": false,
                  "x": [
                    0,
                    1,
                    5,
                    6,
                    12,
                    58,
                    109,
                    191,
                    780,
                    10353
                  ],
                  "y": [
                    "Nokia Browser",
                    "Amazon Silk",
                    "Opera",
                    "Android Webview",
                    "Safari (in-app)",
                    "Edge",
                    "Internet Explorer",
                    "Firefox",
                    "Safari",
                    "Chrome"
                  ],
                  "type": "bar",
                  "uid": "72ccc43e-d661-11e8-ae82-7f47ae10e8a3",
                  "xaxis": "x",
                  "yaxis": "y"
                },
                {
                  "marker": {
                    "color": "green"
                  },
                  "orientation": "h",
                  "showlegend": false,
                  "x": [
                    0,
                    53458.110516934044,
                    38162.32500443027,
                    14602.670057215511,
                    22448.17518248175,
                    635273.8853503185,
                    426092.9032258064,
                    2409461.274919744,
                    287511.2074405333,
                    2229505.5161163444
                  ],
                  "y": [
                    "Nokia Browser",
                    "Amazon Silk",
                    "Opera",
                    "Android Webview",
                    "Safari (in-app)",
                    "Edge",
                    "Internet Explorer",
                    "Firefox",
                    "Safari",
                    "Chrome"
                  ],
                  "type": "bar",
                  "uid": "72cd6e5c-d661-11e8-ae82-7f47ae10e8a3",
                  "xaxis": "x2",
                  "yaxis": "y2"
                },
                {
                  "marker": {
                    "color": "green"
                  },
                  "orientation": "h",
                  "showlegend": false,
                  "x": [
                    168,
                    852,
                    10495
                  ],
                  "y": [
                    "tablet",
                    "mobile",
                    "desktop"
                  ],
                  "type": "bar",
                  "uid": "72cdf98a-d661-11e8-ae82-7f47ae10e8a3",
                  "xaxis": "x3",
                  "yaxis": "y3"
                },
                {
                  "marker": {
                    "color": "green"
                  },
                  "orientation": "h",
                  "showlegend": false,
                  "x": [
                    309413.773851358,
                    238523.46388789077,
                    2228609.316472003
                  ],
                  "y": [
                    "tablet",
                    "mobile",
                    "desktop"
                  ],
                  "type": "bar",
                  "uid": "72ce82ba-d661-11e8-ae82-7f47ae10e8a3",
                  "xaxis": "x4",
                  "yaxis": "y4"
                },
                {
                  "marker": {
                    "color": "green"
                  },
                  "orientation": "h",
                  "showlegend": false,
                  "x": [
                    0,
                    0,
                    0,
                    1,
                    467,
                    536,
                    782,
                    994,
                    2309,
                    6426
                  ],
                  "y": [
                    "SunOS",
                    "Xbox",
                    "Nokia",
                    "Windows Phone",
                    "Android",
                    "iOS",
                    "Linux",
                    "Chrome OS",
                    "Windows",
                    "Macintosh"
                  ],
                  "type": "bar",
                  "uid": "72cf0b86-d661-11e8-ae82-7f47ae10e8a3",
                  "xaxis": "x5",
                  "yaxis": "y5"
                },
                {
                  "marker": {
                    "color": "green"
                  },
                  "orientation": "h",
                  "showlegend": false,
                  "x": [
                    0,
                    0,
                    0,
                    21710.526315789473,
                    293330.31995609077,
                    205887.70724005016,
                    1253365.3022777874,
                    6984005.391654327,
                    1134945.7254507644,
                    3372381.408060235
                  ],
                  "y": [
                    "SunOS",
                    "Xbox",
                    "Nokia",
                    "Windows Phone",
                    "Android",
                    "iOS",
                    "Linux",
                    "Chrome OS",
                    "Windows",
                    "Macintosh"
                  ],
                  "type": "bar",
                  "uid": "72cf91d2-d661-11e8-ae82-7f47ae10e8a3",
                  "xaxis": "x6",
                  "yaxis": "y6"
                }
              ],
              "layout": {
                "annotations": [
                  {
                    "font": {
                      "size": 16
                    },
                    "showarrow": false,
                    "text": "Device Browser - Count of Non-zero Revenue Transaction",
                    "x": 0.225,
                    "xanchor": "center",
                    "xref": "paper",
                    "y": 1,
                    "yanchor": "bottom",
                    "yref": "paper"
                  },
                  {
                    "font": {
                      "size": 16
                    },
                    "showarrow": false,
                    "text": "Device Browser - Average Revenue",
                    "x": 0.775,
                    "xanchor": "center",
                    "xref": "paper",
                    "y": 1,
                    "yanchor": "bottom",
                    "yref": "paper"
                  },
                  {
                    "font": {
                      "size": 16
                    },
                    "showarrow": false,
                    "text": "Device Category - Count of Non-zero Revenue Transaction",
                    "x": 0.225,
                    "xanchor": "center",
                    "xref": "paper",
                    "y": 0.6333333333333333,
                    "yanchor": "bottom",
                    "yref": "paper"
                  },
                  {
                    "font": {
                      "size": 16
                    },
                    "showarrow": false,
                    "text": "Device Category - Average Revenue",
                    "x": 0.775,
                    "xanchor": "center",
                    "xref": "paper",
                    "y": 0.6333333333333333,
                    "yanchor": "bottom",
                    "yref": "paper"
                  },
                  {
                    "font": {
                      "size": 16
                    },
                    "showarrow": false,
                    "text": "Device OS - Count of Non-zero Revenue Transaction",
                    "x": 0.225,
                    "xanchor": "center",
                    "xref": "paper",
                    "y": 0.26666666666666666,
                    "yanchor": "bottom",
                    "yref": "paper"
                  },
                  {
                    "font": {
                      "size": 16
                    },
                    "showarrow": false,
                    "text": "Device OS - Average Revenue",
                    "x": 0.775,
                    "xanchor": "center",
                    "xref": "paper",
                    "y": 0.26666666666666666,
                    "yanchor": "bottom",
                    "yref": "paper"
                  }
                ],
                "xaxis": {
                  "anchor": "y",
                  "domain": [
                    0,
                    0.45
                  ]
                },
                "yaxis": {
                  "anchor": "x",
                  "domain": [
                    0.7333333333333334,
                    1
                  ]
                },
                "xaxis2": {
                  "anchor": "y2",
                  "domain": [
                    0.55,
                    1
                  ]
                },
                "yaxis2": {
                  "anchor": "x2",
                  "domain": [
                    0.7333333333333334,
                    1
                  ]
                },
                "xaxis3": {
                  "anchor": "y3",
                  "domain": [
                    0,
                    0.45
                  ]
                },
                "yaxis3": {
                  "anchor": "x3",
                  "domain": [
                    0.3666666666666667,
                    0.6333333333333333
                  ]
                },
                "xaxis4": {
                  "anchor": "y4",
                  "domain": [
                    0.55,
                    1
                  ]
                },
                "yaxis4": {
                  "anchor": "x4",
                  "domain": [
                    0.3666666666666667,
                    0.6333333333333333
                  ]
                },
                "xaxis5": {
                  "anchor": "y5",
                  "domain": [
                    0,
                    0.45
                  ]
                },
                "yaxis5": {
                  "anchor": "x5",
                  "domain": [
                    0,
                    0.26666666666666666
                  ]
                },
                "xaxis6": {
                  "anchor": "y6",
                  "domain": [
                    0.55,
                    1
                  ]
                },
                "yaxis6": {
                  "anchor": "x6",
                  "domain": [
                    0,
                    0.26666666666666666
                  ]
                },
                "height": 1000,
                "width": 1400,
                "paper_bgcolor": "rgb(233,233,233)",
                "title": "Device Statistics"
              }
            },
            "text/html": "<div id=\"04713c16-f4db-4372-984d-aae3c69691bf\" style=\"height: 1000px; width: 1400px;\" class=\"plotly-graph-div\"></div><script type=\"text/javascript\">require([\"plotly\"], function(Plotly) { window.PLOTLYENV=window.PLOTLYENV || {};window.PLOTLYENV.BASE_URL=\"https://plot.ly\";Plotly.newPlot(\"04713c16-f4db-4372-984d-aae3c69691bf\", [{\"marker\": {\"color\": \"green\"}, \"orientation\": \"h\", \"showlegend\": false, \"x\": [0.0, 1.0, 5.0, 6.0, 12.0, 58.0, 109.0, 191.0, 780.0, 10353.0], \"y\": [\"Nokia Browser\", \"Amazon Silk\", \"Opera\", \"Android Webview\", \"Safari (in-app)\", \"Edge\", \"Internet Explorer\", \"Firefox\", \"Safari\", \"Chrome\"], \"type\": \"bar\", \"uid\": \"72ccc43e-d661-11e8-ae82-7f47ae10e8a3\", \"xaxis\": \"x\", \"yaxis\": \"y\"}, {\"marker\": {\"color\": \"green\"}, \"orientation\": \"h\", \"showlegend\": false, \"x\": [0.0, 53458.110516934044, 38162.32500443027, 14602.670057215511, 22448.17518248175, 635273.8853503185, 426092.9032258064, 2409461.274919744, 287511.2074405333, 2229505.5161163444], \"y\": [\"Nokia Browser\", \"Amazon Silk\", \"Opera\", \"Android Webview\", \"Safari (in-app)\", \"Edge\", \"Internet Explorer\", \"Firefox\", \"Safari\", \"Chrome\"], \"type\": \"bar\", \"uid\": \"72cd6e5c-d661-11e8-ae82-7f47ae10e8a3\", \"xaxis\": \"x2\", \"yaxis\": \"y2\"}, {\"marker\": {\"color\": \"green\"}, \"orientation\": \"h\", \"showlegend\": false, \"x\": [168.0, 852.0, 10495.0], \"y\": [\"tablet\", \"mobile\", \"desktop\"], \"type\": \"bar\", \"uid\": \"72cdf98a-d661-11e8-ae82-7f47ae10e8a3\", \"xaxis\": \"x3\", \"yaxis\": \"y3\"}, {\"marker\": {\"color\": \"green\"}, \"orientation\": \"h\", \"showlegend\": false, \"x\": [309413.773851358, 238523.46388789077, 2228609.316472003], \"y\": [\"tablet\", \"mobile\", \"desktop\"], \"type\": \"bar\", \"uid\": \"72ce82ba-d661-11e8-ae82-7f47ae10e8a3\", \"xaxis\": \"x4\", \"yaxis\": \"y4\"}, {\"marker\": {\"color\": \"green\"}, \"orientation\": \"h\", \"showlegend\": false, \"x\": [0.0, 0.0, 0.0, 1.0, 467.0, 536.0, 782.0, 994.0, 2309.0, 6426.0], \"y\": [\"SunOS\", \"Xbox\", \"Nokia\", \"Windows Phone\", \"Android\", \"iOS\", \"Linux\", \"Chrome OS\", \"Windows\", \"Macintosh\"], \"type\": \"bar\", \"uid\": \"72cf0b86-d661-11e8-ae82-7f47ae10e8a3\", \"xaxis\": \"x5\", \"yaxis\": \"y5\"}, {\"marker\": {\"color\": \"green\"}, \"orientation\": \"h\", \"showlegend\": false, \"x\": [0.0, 0.0, 0.0, 21710.526315789473, 293330.31995609077, 205887.70724005016, 1253365.3022777874, 6984005.391654327, 1134945.7254507644, 3372381.408060235], \"y\": [\"SunOS\", \"Xbox\", \"Nokia\", \"Windows Phone\", \"Android\", \"iOS\", \"Linux\", \"Chrome OS\", \"Windows\", \"Macintosh\"], \"type\": \"bar\", \"uid\": \"72cf91d2-d661-11e8-ae82-7f47ae10e8a3\", \"xaxis\": \"x6\", \"yaxis\": \"y6\"}], {\"annotations\": [{\"font\": {\"size\": 16}, \"showarrow\": false, \"text\": \"Device Browser - Count of Non-zero Revenue Transaction\", \"x\": 0.225, \"xanchor\": \"center\", \"xref\": \"paper\", \"y\": 1.0, \"yanchor\": \"bottom\", \"yref\": \"paper\"}, {\"font\": {\"size\": 16}, \"showarrow\": false, \"text\": \"Device Browser - Average Revenue\", \"x\": 0.775, \"xanchor\": \"center\", \"xref\": \"paper\", \"y\": 1.0, \"yanchor\": \"bottom\", \"yref\": \"paper\"}, {\"font\": {\"size\": 16}, \"showarrow\": false, \"text\": \"Device Category - Count of Non-zero Revenue Transaction\", \"x\": 0.225, \"xanchor\": \"center\", \"xref\": \"paper\", \"y\": 0.6333333333333333, \"yanchor\": \"bottom\", \"yref\": \"paper\"}, {\"font\": {\"size\": 16}, \"showarrow\": false, \"text\": \"Device Category - Average Revenue\", \"x\": 0.775, \"xanchor\": \"center\", \"xref\": \"paper\", \"y\": 0.6333333333333333, \"yanchor\": \"bottom\", \"yref\": \"paper\"}, {\"font\": {\"size\": 16}, \"showarrow\": false, \"text\": \"Device OS - Count of Non-zero Revenue Transaction\", \"x\": 0.225, \"xanchor\": \"center\", \"xref\": \"paper\", \"y\": 0.26666666666666666, \"yanchor\": \"bottom\", \"yref\": \"paper\"}, {\"font\": {\"size\": 16}, \"showarrow\": false, \"text\": \"Device OS - Average Revenue\", \"x\": 0.775, \"xanchor\": \"center\", \"xref\": \"paper\", \"y\": 0.26666666666666666, \"yanchor\": \"bottom\", \"yref\": \"paper\"}], \"xaxis\": {\"anchor\": \"y\", \"domain\": [0.0, 0.45]}, \"yaxis\": {\"anchor\": \"x\", \"domain\": [0.7333333333333334, 1.0]}, \"xaxis2\": {\"anchor\": \"y2\", \"domain\": [0.55, 1.0]}, \"yaxis2\": {\"anchor\": \"x2\", \"domain\": [0.7333333333333334, 1.0]}, \"xaxis3\": {\"anchor\": \"y3\", \"domain\": [0.0, 0.45]}, \"yaxis3\": {\"anchor\": \"x3\", \"domain\": [0.3666666666666667, 0.6333333333333333]}, \"xaxis4\": {\"anchor\": \"y4\", \"domain\": [0.55, 1.0]}, \"yaxis4\": {\"anchor\": \"x4\", \"domain\": [0.3666666666666667, 0.6333333333333333]}, \"xaxis5\": {\"anchor\": \"y5\", \"domain\": [0.0, 0.45]}, \"yaxis5\": {\"anchor\": \"x5\", \"domain\": [0.0, 0.26666666666666666]}, \"xaxis6\": {\"anchor\": \"y6\", \"domain\": [0.55, 1.0]}, \"yaxis6\": {\"anchor\": \"x6\", \"domain\": [0.0, 0.26666666666666666]}, \"height\": 1000, \"width\": 1400, \"paper_bgcolor\": \"rgb(233,233,233)\", \"title\": \"Device Statistics\"}, {\"showLink\": true, \"linkText\": \"Export to plot.ly\"})});</script>",
            "text/vnd.plotly.v1+html": "<div id=\"04713c16-f4db-4372-984d-aae3c69691bf\" style=\"height: 1000px; width: 1400px;\" class=\"plotly-graph-div\"></div><script type=\"text/javascript\">require([\"plotly\"], function(Plotly) { window.PLOTLYENV=window.PLOTLYENV || {};window.PLOTLYENV.BASE_URL=\"https://plot.ly\";Plotly.newPlot(\"04713c16-f4db-4372-984d-aae3c69691bf\", [{\"marker\": {\"color\": \"green\"}, \"orientation\": \"h\", \"showlegend\": false, \"x\": [0.0, 1.0, 5.0, 6.0, 12.0, 58.0, 109.0, 191.0, 780.0, 10353.0], \"y\": [\"Nokia Browser\", \"Amazon Silk\", \"Opera\", \"Android Webview\", \"Safari (in-app)\", \"Edge\", \"Internet Explorer\", \"Firefox\", \"Safari\", \"Chrome\"], \"type\": \"bar\", \"uid\": \"72ccc43e-d661-11e8-ae82-7f47ae10e8a3\", \"xaxis\": \"x\", \"yaxis\": \"y\"}, {\"marker\": {\"color\": \"green\"}, \"orientation\": \"h\", \"showlegend\": false, \"x\": [0.0, 53458.110516934044, 38162.32500443027, 14602.670057215511, 22448.17518248175, 635273.8853503185, 426092.9032258064, 2409461.274919744, 287511.2074405333, 2229505.5161163444], \"y\": [\"Nokia Browser\", \"Amazon Silk\", \"Opera\", \"Android Webview\", \"Safari (in-app)\", \"Edge\", \"Internet Explorer\", \"Firefox\", \"Safari\", \"Chrome\"], \"type\": \"bar\", \"uid\": \"72cd6e5c-d661-11e8-ae82-7f47ae10e8a3\", \"xaxis\": \"x2\", \"yaxis\": \"y2\"}, {\"marker\": {\"color\": \"green\"}, \"orientation\": \"h\", \"showlegend\": false, \"x\": [168.0, 852.0, 10495.0], \"y\": [\"tablet\", \"mobile\", \"desktop\"], \"type\": \"bar\", \"uid\": \"72cdf98a-d661-11e8-ae82-7f47ae10e8a3\", \"xaxis\": \"x3\", \"yaxis\": \"y3\"}, {\"marker\": {\"color\": \"green\"}, \"orientation\": \"h\", \"showlegend\": false, \"x\": [309413.773851358, 238523.46388789077, 2228609.316472003], \"y\": [\"tablet\", \"mobile\", \"desktop\"], \"type\": \"bar\", \"uid\": \"72ce82ba-d661-11e8-ae82-7f47ae10e8a3\", \"xaxis\": \"x4\", \"yaxis\": \"y4\"}, {\"marker\": {\"color\": \"green\"}, \"orientation\": \"h\", \"showlegend\": false, \"x\": [0.0, 0.0, 0.0, 1.0, 467.0, 536.0, 782.0, 994.0, 2309.0, 6426.0], \"y\": [\"SunOS\", \"Xbox\", \"Nokia\", \"Windows Phone\", \"Android\", \"iOS\", \"Linux\", \"Chrome OS\", \"Windows\", \"Macintosh\"], \"type\": \"bar\", \"uid\": \"72cf0b86-d661-11e8-ae82-7f47ae10e8a3\", \"xaxis\": \"x5\", \"yaxis\": \"y5\"}, {\"marker\": {\"color\": \"green\"}, \"orientation\": \"h\", \"showlegend\": false, \"x\": [0.0, 0.0, 0.0, 21710.526315789473, 293330.31995609077, 205887.70724005016, 1253365.3022777874, 6984005.391654327, 1134945.7254507644, 3372381.408060235], \"y\": [\"SunOS\", \"Xbox\", \"Nokia\", \"Windows Phone\", \"Android\", \"iOS\", \"Linux\", \"Chrome OS\", \"Windows\", \"Macintosh\"], \"type\": \"bar\", \"uid\": \"72cf91d2-d661-11e8-ae82-7f47ae10e8a3\", \"xaxis\": \"x6\", \"yaxis\": \"y6\"}], {\"annotations\": [{\"font\": {\"size\": 16}, \"showarrow\": false, \"text\": \"Device Browser - Count of Non-zero Revenue Transaction\", \"x\": 0.225, \"xanchor\": \"center\", \"xref\": \"paper\", \"y\": 1.0, \"yanchor\": \"bottom\", \"yref\": \"paper\"}, {\"font\": {\"size\": 16}, \"showarrow\": false, \"text\": \"Device Browser - Average Revenue\", \"x\": 0.775, \"xanchor\": \"center\", \"xref\": \"paper\", \"y\": 1.0, \"yanchor\": \"bottom\", \"yref\": \"paper\"}, {\"font\": {\"size\": 16}, \"showarrow\": false, \"text\": \"Device Category - Count of Non-zero Revenue Transaction\", \"x\": 0.225, \"xanchor\": \"center\", \"xref\": \"paper\", \"y\": 0.6333333333333333, \"yanchor\": \"bottom\", \"yref\": \"paper\"}, {\"font\": {\"size\": 16}, \"showarrow\": false, \"text\": \"Device Category - Average Revenue\", \"x\": 0.775, \"xanchor\": \"center\", \"xref\": \"paper\", \"y\": 0.6333333333333333, \"yanchor\": \"bottom\", \"yref\": \"paper\"}, {\"font\": {\"size\": 16}, \"showarrow\": false, \"text\": \"Device OS - Count of Non-zero Revenue Transaction\", \"x\": 0.225, \"xanchor\": \"center\", \"xref\": \"paper\", \"y\": 0.26666666666666666, \"yanchor\": \"bottom\", \"yref\": \"paper\"}, {\"font\": {\"size\": 16}, \"showarrow\": false, \"text\": \"Device OS - Average Revenue\", \"x\": 0.775, \"xanchor\": \"center\", \"xref\": \"paper\", \"y\": 0.26666666666666666, \"yanchor\": \"bottom\", \"yref\": \"paper\"}], \"xaxis\": {\"anchor\": \"y\", \"domain\": [0.0, 0.45]}, \"yaxis\": {\"anchor\": \"x\", \"domain\": [0.7333333333333334, 1.0]}, \"xaxis2\": {\"anchor\": \"y2\", \"domain\": [0.55, 1.0]}, \"yaxis2\": {\"anchor\": \"x2\", \"domain\": [0.7333333333333334, 1.0]}, \"xaxis3\": {\"anchor\": \"y3\", \"domain\": [0.0, 0.45]}, \"yaxis3\": {\"anchor\": \"x3\", \"domain\": [0.3666666666666667, 0.6333333333333333]}, \"xaxis4\": {\"anchor\": \"y4\", \"domain\": [0.55, 1.0]}, \"yaxis4\": {\"anchor\": \"x4\", \"domain\": [0.3666666666666667, 0.6333333333333333]}, \"xaxis5\": {\"anchor\": \"y5\", \"domain\": [0.0, 0.45]}, \"yaxis5\": {\"anchor\": \"x5\", \"domain\": [0.0, 0.26666666666666666]}, \"xaxis6\": {\"anchor\": \"y6\", \"domain\": [0.55, 1.0]}, \"yaxis6\": {\"anchor\": \"x6\", \"domain\": [0.0, 0.26666666666666666]}, \"height\": 1000, \"width\": 1400, \"paper_bgcolor\": \"rgb(233,233,233)\", \"title\": \"Device Statistics\"}, {\"showLink\": true, \"linkText\": \"Export to plot.ly\"})});</script>"
          },
          "metadata": {}
        }
      ]
    },
    {
      "metadata": {
        "_uuid": "08286bd93833785cc5dfd45150cde4479bf9d1c1"
      },
      "cell_type": "markdown",
      "source": "Clustering under customers' behavior\n"
    },
    {
      "metadata": {
        "trusted": true,
        "_uuid": "948bd2bc6f0f7b18b1cc865ad823879794ecc7d4"
      },
      "cell_type": "code",
      "source": "# Cluster by customers' behavior\n# pageviews\ncluster_info = train_df.groupby('totals.pageviews').agg({'transactionRevenue_non_zero':'sum', 'totals.transactionRevenue':['mean']})\ncluster_info.columns = [\"count of non-zero revenue\", \"average\"]\ncluster_info = cluster_info.sort_values(by=\"count of non-zero revenue\", ascending=False)\nbar_chart_pageviews_count = horizontal_bar_chart(cluster_info[\"count of non-zero revenue\"].head(100))\nbar_chart_pageviews_mean = horizontal_bar_chart(cluster_info[\"average\"].head(100))\n# hits\ncluster_info = train_df.groupby('totals.hits').agg({'transactionRevenue_non_zero':'sum', 'totals.transactionRevenue':['mean']})\ncluster_info.columns = [\"count of non-zero revenue\", \"average\"]\ncluster_info = cluster_info.sort_values(by=\"count of non-zero revenue\", ascending=False)\nbar_chart_hits_count = horizontal_bar_chart(cluster_info[\"count of non-zero revenue\"].head(100))\nbar_chart_hits_mean = horizontal_bar_chart(cluster_info[\"average\"].head(100))\nfigure = tools.make_subplots(rows=2, cols=2, vertical_spacing=0.1, \n                                         subplot_titles=[\"Page Views - Count of Non-zero Revenue Transaction\", \"Page Views - Average Revenue\",\n                                          \"Hits - Count of Non-zero Revenue Transaction\", \"Hits - Average Revenue\"])\nfigure.append_trace(bar_chart_pageviews_count, 1, 1)\nfigure.append_trace(bar_chart_pageviews_mean, 1, 2)\nfigure.append_trace(bar_chart_hits_count, 2, 1)\nfigure.append_trace(bar_chart_hits_mean, 2, 2)\nfigure['layout'].update(height=800, width=1400, paper_bgcolor='rgb(233,233,233)', title=\"Visitor Behavior Plots\")\npy.iplot(figure, filename='behavior-plots')",
      "execution_count": 6,
      "outputs": [
        {
          "output_type": "stream",
          "text": "This is the format of your plot grid:\n[ (1,1) x1,y1 ]  [ (1,2) x2,y2 ]\n[ (2,1) x3,y3 ]  [ (2,2) x4,y4 ]\n\n",
          "name": "stdout"
        },
        {
          "output_type": "display_data",
          "data": {
            "application/vnd.plotly.v1+json": {
              "data": [
                {
                  "marker": {
                    "color": "green"
                  },
                  "orientation": "h",
                  "showlegend": false,
                  "x": [
                    4,
                    4,
                    4,
                    5,
                    5,
                    5,
                    5,
                    5,
                    5,
                    5,
                    5,
                    5,
                    6,
                    6,
                    6,
                    6,
                    6,
                    7,
                    8,
                    8,
                    8,
                    9,
                    9,
                    10,
                    10,
                    11,
                    11,
                    12,
                    12,
                    12,
                    13,
                    13,
                    14,
                    14,
                    16,
                    17,
                    20,
                    20,
                    21,
                    23,
                    23,
                    25,
                    25,
                    26,
                    27,
                    28,
                    29,
                    32,
                    34,
                    35,
                    37,
                    39,
                    41,
                    48,
                    50,
                    62,
                    62,
                    63,
                    73,
                    76,
                    77,
                    81,
                    83,
                    92,
                    95,
                    97,
                    108,
                    109,
                    112,
                    136,
                    139,
                    140,
                    158,
                    160,
                    164,
                    175,
                    189,
                    199,
                    238,
                    240,
                    242,
                    251,
                    257,
                    268,
                    297,
                    331,
                    334,
                    347,
                    367,
                    367,
                    374,
                    385,
                    397,
                    407,
                    445,
                    451,
                    453,
                    467,
                    471,
                    478
                  ],
                  "y": [
                    "99",
                    "97",
                    "95",
                    "91",
                    "94",
                    "89",
                    "92",
                    "82",
                    "93",
                    "116",
                    "96",
                    "113",
                    "114",
                    "110",
                    "87",
                    "79",
                    "86",
                    "112",
                    "84",
                    "4",
                    "90",
                    "85",
                    "6",
                    "74",
                    "77",
                    "81",
                    "88",
                    "83",
                    "80",
                    "72",
                    "76",
                    "5",
                    "67",
                    "78",
                    "71",
                    "73",
                    "70",
                    "69",
                    "75",
                    "66",
                    "65",
                    "7",
                    "62",
                    "63",
                    "68",
                    "64",
                    "60",
                    "59",
                    "61",
                    "58",
                    "56",
                    "55",
                    "54",
                    "57",
                    "53",
                    "50",
                    "52",
                    "51",
                    "47",
                    "49",
                    "46",
                    "44",
                    "8",
                    "43",
                    "48",
                    "45",
                    "40",
                    "42",
                    "41",
                    "9",
                    "38",
                    "39",
                    "36",
                    "34",
                    "37",
                    "35",
                    "32",
                    "33",
                    "30",
                    "31",
                    "29",
                    "28",
                    "10",
                    "27",
                    "25",
                    "26",
                    "23",
                    "24",
                    "22",
                    "19",
                    "11",
                    "12",
                    "20",
                    "21",
                    "17",
                    "18",
                    "13",
                    "14",
                    "15",
                    "16"
                  ],
                  "type": "bar",
                  "uid": "afcec058-d661-11e8-ae82-7f47ae10e8a3",
                  "xaxis": "x",
                  "yaxis": "y"
                },
                {
                  "marker": {
                    "color": "green"
                  },
                  "orientation": "h",
                  "showlegend": false,
                  "x": [
                    83097692.3076923,
                    89670000,
                    77675555.55555555,
                    63635000,
                    78468000,
                    740866818.1818181,
                    56149285.71428572,
                    138746500,
                    49050588.23529412,
                    352808571.4285714,
                    60314166.666666664,
                    48970000,
                    489562857.14285713,
                    182588000,
                    284478666.6666667,
                    43206818.18181818,
                    80930476.1904762,
                    362037000,
                    172873333.33333334,
                    22001.681713577625,
                    39481818.18181818,
                    52350476.190476194,
                    13590.0032404407,
                    49492812.5,
                    58395333.333333336,
                    131689583.33333333,
                    123306818.18181819,
                    215815833.33333334,
                    74806363.63636364,
                    46973250,
                    90042432.43243243,
                    81348.6576277274,
                    29770344.827586208,
                    279901818.1818182,
                    99242608.69565217,
                    72563488.37209302,
                    176117200,
                    79828235.29411764,
                    132464222.22222222,
                    177051176.47058824,
                    76771571.42857143,
                    79878.31176833026,
                    99433150.6849315,
                    79822253.52112676,
                    96597666.66666667,
                    350684366.1971831,
                    74411666.66666667,
                    83155454.54545455,
                    129445243.90243903,
                    96109255.31914894,
                    106529642.85714285,
                    79385564.51612903,
                    47803955.2238806,
                    107104649.12280701,
                    73320148.14814815,
                    57421604.938271604,
                    119983035.71428572,
                    75426358.69565217,
                    71900666.66666667,
                    90101041.66666667,
                    59933000,
                    50430206.61157025,
                    555948.1403876375,
                    44890188.679245286,
                    81632747.74774775,
                    44321828.358208954,
                    117635183.09859155,
                    49307617.44966443,
                    58179792.89940828,
                    1150661.1044894715,
                    51373195.12195122,
                    86377293.814433,
                    45280805.50098232,
                    45217054.67372134,
                    38500397.35099338,
                    39399308.411214955,
                    33982627.84090909,
                    40100178.04154303,
                    44374558.99198167,
                    35572290.43683589,
                    25850274.285714287,
                    25827112.74060495,
                    2377766.2311955662,
                    28134960.62992126,
                    20516433.12101911,
                    33494370.257966615,
                    23842229.965156794,
                    25402310.14677728,
                    25945674.704976913,
                    10718612.9753915,
                    4323871.525775574,
                    3788726.222347471,
                    14754919.053549191,
                    18014947.987336047,
                    11537883.793790942,
                    11948384.126984127,
                    6880003.227368081,
                    9362288.792288791,
                    8564989.406779662,
                    10329967.581047382
                  ],
                  "y": [
                    "99",
                    "97",
                    "95",
                    "91",
                    "94",
                    "89",
                    "92",
                    "82",
                    "93",
                    "116",
                    "96",
                    "113",
                    "114",
                    "110",
                    "87",
                    "79",
                    "86",
                    "112",
                    "84",
                    "4",
                    "90",
                    "85",
                    "6",
                    "74",
                    "77",
                    "81",
                    "88",
                    "83",
                    "80",
                    "72",
                    "76",
                    "5",
                    "67",
                    "78",
                    "71",
                    "73",
                    "70",
                    "69",
                    "75",
                    "66",
                    "65",
                    "7",
                    "62",
                    "63",
                    "68",
                    "64",
                    "60",
                    "59",
                    "61",
                    "58",
                    "56",
                    "55",
                    "54",
                    "57",
                    "53",
                    "50",
                    "52",
                    "51",
                    "47",
                    "49",
                    "46",
                    "44",
                    "8",
                    "43",
                    "48",
                    "45",
                    "40",
                    "42",
                    "41",
                    "9",
                    "38",
                    "39",
                    "36",
                    "34",
                    "37",
                    "35",
                    "32",
                    "33",
                    "30",
                    "31",
                    "29",
                    "28",
                    "10",
                    "27",
                    "25",
                    "26",
                    "23",
                    "24",
                    "22",
                    "19",
                    "11",
                    "12",
                    "20",
                    "21",
                    "17",
                    "18",
                    "13",
                    "14",
                    "15",
                    "16"
                  ],
                  "type": "bar",
                  "uid": "afcf7124-d661-11e8-ae82-7f47ae10e8a3",
                  "xaxis": "x2",
                  "yaxis": "y2"
                },
                {
                  "marker": {
                    "color": "green"
                  },
                  "orientation": "h",
                  "showlegend": false,
                  "x": [
                    9,
                    9,
                    10,
                    10,
                    10,
                    11,
                    11,
                    12,
                    12,
                    12,
                    12,
                    12,
                    13,
                    13,
                    14,
                    15,
                    15,
                    18,
                    19,
                    19,
                    19,
                    20,
                    21,
                    21,
                    23,
                    23,
                    23,
                    24,
                    25,
                    26,
                    27,
                    28,
                    30,
                    32,
                    32,
                    34,
                    34,
                    36,
                    38,
                    38,
                    43,
                    46,
                    46,
                    51,
                    54,
                    54,
                    57,
                    58,
                    63,
                    63,
                    64,
                    67,
                    69,
                    72,
                    75,
                    81,
                    83,
                    90,
                    94,
                    94,
                    104,
                    105,
                    111,
                    122,
                    123,
                    124,
                    129,
                    133,
                    135,
                    145,
                    155,
                    159,
                    172,
                    175,
                    177,
                    193,
                    193,
                    193,
                    198,
                    204,
                    207,
                    222,
                    258,
                    261,
                    263,
                    267,
                    269,
                    279,
                    290,
                    292,
                    311,
                    313,
                    313,
                    329,
                    345,
                    348,
                    348,
                    354,
                    362,
                    375
                  ],
                  "y": [
                    "108",
                    "105",
                    "103",
                    "126",
                    "112",
                    "104",
                    "92",
                    "106",
                    "110",
                    "100",
                    "99",
                    "5",
                    "89",
                    "93",
                    "88",
                    "101",
                    "96",
                    "91",
                    "90",
                    "85",
                    "7",
                    "94",
                    "78",
                    "79",
                    "86",
                    "76",
                    "83",
                    "82",
                    "77",
                    "81",
                    "84",
                    "80",
                    "73",
                    "72",
                    "70",
                    "75",
                    "74",
                    "71",
                    "67",
                    "69",
                    "65",
                    "68",
                    "64",
                    "63",
                    "8",
                    "66",
                    "54",
                    "56",
                    "59",
                    "58",
                    "62",
                    "55",
                    "61",
                    "52",
                    "60",
                    "50",
                    "57",
                    "53",
                    "49",
                    "9",
                    "51",
                    "47",
                    "48",
                    "44",
                    "10",
                    "45",
                    "46",
                    "41",
                    "42",
                    "39",
                    "43",
                    "40",
                    "38",
                    "36",
                    "37",
                    "33",
                    "11",
                    "35",
                    "34",
                    "32",
                    "31",
                    "29",
                    "12",
                    "30",
                    "27",
                    "28",
                    "25",
                    "26",
                    "22",
                    "24",
                    "23",
                    "21",
                    "13",
                    "20",
                    "19",
                    "17",
                    "14",
                    "15",
                    "16",
                    "18"
                  ],
                  "type": "bar",
                  "uid": "afcfff54-d661-11e8-ae82-7f47ae10e8a3",
                  "xaxis": "x3",
                  "yaxis": "y3"
                },
                {
                  "marker": {
                    "color": "green"
                  },
                  "orientation": "h",
                  "showlegend": false,
                  "x": [
                    194503703.7037037,
                    81733928.57142857,
                    123397037.03703703,
                    116495882.35294117,
                    62074500,
                    83974642.85714285,
                    81120857.14285715,
                    207930666.66666666,
                    99815357.14285715,
                    56551794.87179487,
                    109791666.66666667,
                    73759.0096641779,
                    45161875,
                    70628095.23809524,
                    77046153.84615384,
                    81508000,
                    81547647.05882353,
                    495178333.3333333,
                    81856000,
                    61661864.40677966,
                    63304.12952146737,
                    86927000,
                    69467605.63380282,
                    57264603.17460317,
                    112774426.22950819,
                    59142021.27659574,
                    127562187.5,
                    211252027.02702704,
                    136299259.25925925,
                    123194225.35211268,
                    89548840.57971014,
                    84389500,
                    47360170.940170944,
                    75174318.18181819,
                    40991263.15789474,
                    61946979.166666664,
                    93572169.81132075,
                    65684672.13114754,
                    72258487.39495799,
                    76665655.73770492,
                    45098717.94871795,
                    82313000,
                    80283012.82051282,
                    67125448.27586207,
                    352975.32937225525,
                    61320354.60992908,
                    56416219.512195125,
                    53111137.440758295,
                    42207536.94581281,
                    162106632.12435234,
                    51805561.79775281,
                    51763832.59911894,
                    67052525.252525255,
                    39714099.61685824,
                    54145000,
                    64740727.848101266,
                    95806226.41509435,
                    55610929.36802974,
                    43833333.333333336,
                    791887.4913187746,
                    43806636.63663664,
                    45363884.29752066,
                    45593409.74212034,
                    35638876.65198238,
                    1233364.6616541354,
                    32720022.83105023,
                    37988490.56603774,
                    50722350.81374322,
                    35545104.36432637,
                    23077893.217893217,
                    30993073.85229541,
                    27639838.969404187,
                    25286864.64088398,
                    18703286.624203824,
                    33418697.986577183,
                    31256165.254237287,
                    2303424.006908463,
                    33220852.071005918,
                    30262884.160756502,
                    29161295.95588235,
                    22823541.666666668,
                    14759922.54066615,
                    2526206.3713669246,
                    21744887.50969744,
                    16684674.20212766,
                    16862823.61308677,
                    12173937.662337663,
                    18447473.806752037,
                    8392866.370609608,
                    13575757.290686736,
                    12030031.96347032,
                    9243927.805575412,
                    3342075.2797558494,
                    10030558.093994778,
                    10344870.859920997,
                    9575670.702179177,
                    4171619.309008718,
                    6311662.332838039,
                    7404215.436810857,
                    6359800.266311585
                  ],
                  "y": [
                    "108",
                    "105",
                    "103",
                    "126",
                    "112",
                    "104",
                    "92",
                    "106",
                    "110",
                    "100",
                    "99",
                    "5",
                    "89",
                    "93",
                    "88",
                    "101",
                    "96",
                    "91",
                    "90",
                    "85",
                    "7",
                    "94",
                    "78",
                    "79",
                    "86",
                    "76",
                    "83",
                    "82",
                    "77",
                    "81",
                    "84",
                    "80",
                    "73",
                    "72",
                    "70",
                    "75",
                    "74",
                    "71",
                    "67",
                    "69",
                    "65",
                    "68",
                    "64",
                    "63",
                    "8",
                    "66",
                    "54",
                    "56",
                    "59",
                    "58",
                    "62",
                    "55",
                    "61",
                    "52",
                    "60",
                    "50",
                    "57",
                    "53",
                    "49",
                    "9",
                    "51",
                    "47",
                    "48",
                    "44",
                    "10",
                    "45",
                    "46",
                    "41",
                    "42",
                    "39",
                    "43",
                    "40",
                    "38",
                    "36",
                    "37",
                    "33",
                    "11",
                    "35",
                    "34",
                    "32",
                    "31",
                    "29",
                    "12",
                    "30",
                    "27",
                    "28",
                    "25",
                    "26",
                    "22",
                    "24",
                    "23",
                    "21",
                    "13",
                    "20",
                    "19",
                    "17",
                    "14",
                    "15",
                    "16",
                    "18"
                  ],
                  "type": "bar",
                  "uid": "afd09572-d661-11e8-ae82-7f47ae10e8a3",
                  "xaxis": "x4",
                  "yaxis": "y4"
                }
              ],
              "layout": {
                "annotations": [
                  {
                    "font": {
                      "size": 16
                    },
                    "showarrow": false,
                    "text": "Page Views - Count of Non-zero Revenue Transaction",
                    "x": 0.225,
                    "xanchor": "center",
                    "xref": "paper",
                    "y": 1,
                    "yanchor": "bottom",
                    "yref": "paper"
                  },
                  {
                    "font": {
                      "size": 16
                    },
                    "showarrow": false,
                    "text": "Page Views - Average Revenue",
                    "x": 0.775,
                    "xanchor": "center",
                    "xref": "paper",
                    "y": 1,
                    "yanchor": "bottom",
                    "yref": "paper"
                  },
                  {
                    "font": {
                      "size": 16
                    },
                    "showarrow": false,
                    "text": "Hits - Count of Non-zero Revenue Transaction",
                    "x": 0.225,
                    "xanchor": "center",
                    "xref": "paper",
                    "y": 0.45,
                    "yanchor": "bottom",
                    "yref": "paper"
                  },
                  {
                    "font": {
                      "size": 16
                    },
                    "showarrow": false,
                    "text": "Hits - Average Revenue",
                    "x": 0.775,
                    "xanchor": "center",
                    "xref": "paper",
                    "y": 0.45,
                    "yanchor": "bottom",
                    "yref": "paper"
                  }
                ],
                "xaxis": {
                  "anchor": "y",
                  "domain": [
                    0,
                    0.45
                  ]
                },
                "yaxis": {
                  "anchor": "x",
                  "domain": [
                    0.55,
                    1
                  ]
                },
                "xaxis2": {
                  "anchor": "y2",
                  "domain": [
                    0.55,
                    1
                  ]
                },
                "yaxis2": {
                  "anchor": "x2",
                  "domain": [
                    0.55,
                    1
                  ]
                },
                "xaxis3": {
                  "anchor": "y3",
                  "domain": [
                    0,
                    0.45
                  ]
                },
                "yaxis3": {
                  "anchor": "x3",
                  "domain": [
                    0,
                    0.45
                  ]
                },
                "xaxis4": {
                  "anchor": "y4",
                  "domain": [
                    0.55,
                    1
                  ]
                },
                "yaxis4": {
                  "anchor": "x4",
                  "domain": [
                    0,
                    0.45
                  ]
                },
                "height": 800,
                "width": 1400,
                "paper_bgcolor": "rgb(233,233,233)",
                "title": "Visitor Behavior Plots"
              }
            },
            "text/html": "<div id=\"8bf5a0d4-ce84-49f2-8851-c67e4e0f0445\" style=\"height: 800px; width: 1400px;\" class=\"plotly-graph-div\"></div><script type=\"text/javascript\">require([\"plotly\"], function(Plotly) { window.PLOTLYENV=window.PLOTLYENV || {};window.PLOTLYENV.BASE_URL=\"https://plot.ly\";Plotly.newPlot(\"8bf5a0d4-ce84-49f2-8851-c67e4e0f0445\", [{\"marker\": {\"color\": \"green\"}, \"orientation\": \"h\", \"showlegend\": false, \"x\": [4.0, 4.0, 4.0, 5.0, 5.0, 5.0, 5.0, 5.0, 5.0, 5.0, 5.0, 5.0, 6.0, 6.0, 6.0, 6.0, 6.0, 7.0, 8.0, 8.0, 8.0, 9.0, 9.0, 10.0, 10.0, 11.0, 11.0, 12.0, 12.0, 12.0, 13.0, 13.0, 14.0, 14.0, 16.0, 17.0, 20.0, 20.0, 21.0, 23.0, 23.0, 25.0, 25.0, 26.0, 27.0, 28.0, 29.0, 32.0, 34.0, 35.0, 37.0, 39.0, 41.0, 48.0, 50.0, 62.0, 62.0, 63.0, 73.0, 76.0, 77.0, 81.0, 83.0, 92.0, 95.0, 97.0, 108.0, 109.0, 112.0, 136.0, 139.0, 140.0, 158.0, 160.0, 164.0, 175.0, 189.0, 199.0, 238.0, 240.0, 242.0, 251.0, 257.0, 268.0, 297.0, 331.0, 334.0, 347.0, 367.0, 367.0, 374.0, 385.0, 397.0, 407.0, 445.0, 451.0, 453.0, 467.0, 471.0, 478.0], \"y\": [\"99\", \"97\", \"95\", \"91\", \"94\", \"89\", \"92\", \"82\", \"93\", \"116\", \"96\", \"113\", \"114\", \"110\", \"87\", \"79\", \"86\", \"112\", \"84\", \"4\", \"90\", \"85\", \"6\", \"74\", \"77\", \"81\", \"88\", \"83\", \"80\", \"72\", \"76\", \"5\", \"67\", \"78\", \"71\", \"73\", \"70\", \"69\", \"75\", \"66\", \"65\", \"7\", \"62\", \"63\", \"68\", \"64\", \"60\", \"59\", \"61\", \"58\", \"56\", \"55\", \"54\", \"57\", \"53\", \"50\", \"52\", \"51\", \"47\", \"49\", \"46\", \"44\", \"8\", \"43\", \"48\", \"45\", \"40\", \"42\", \"41\", \"9\", \"38\", \"39\", \"36\", \"34\", \"37\", \"35\", \"32\", \"33\", \"30\", \"31\", \"29\", \"28\", \"10\", \"27\", \"25\", \"26\", \"23\", \"24\", \"22\", \"19\", \"11\", \"12\", \"20\", \"21\", \"17\", \"18\", \"13\", \"14\", \"15\", \"16\"], \"type\": \"bar\", \"uid\": \"afcec058-d661-11e8-ae82-7f47ae10e8a3\", \"xaxis\": \"x\", \"yaxis\": \"y\"}, {\"marker\": {\"color\": \"green\"}, \"orientation\": \"h\", \"showlegend\": false, \"x\": [83097692.3076923, 89670000.0, 77675555.55555555, 63635000.0, 78468000.0, 740866818.1818181, 56149285.71428572, 138746500.0, 49050588.23529412, 352808571.4285714, 60314166.666666664, 48970000.0, 489562857.14285713, 182588000.0, 284478666.6666667, 43206818.18181818, 80930476.1904762, 362037000.0, 172873333.33333334, 22001.681713577625, 39481818.18181818, 52350476.190476194, 13590.0032404407, 49492812.5, 58395333.333333336, 131689583.33333333, 123306818.18181819, 215815833.33333334, 74806363.63636364, 46973250.0, 90042432.43243243, 81348.6576277274, 29770344.827586208, 279901818.1818182, 99242608.69565217, 72563488.37209302, 176117200.0, 79828235.29411764, 132464222.22222222, 177051176.47058824, 76771571.42857143, 79878.31176833026, 99433150.6849315, 79822253.52112676, 96597666.66666667, 350684366.1971831, 74411666.66666667, 83155454.54545455, 129445243.90243903, 96109255.31914894, 106529642.85714285, 79385564.51612903, 47803955.2238806, 107104649.12280701, 73320148.14814815, 57421604.938271604, 119983035.71428572, 75426358.69565217, 71900666.66666667, 90101041.66666667, 59933000.0, 50430206.61157025, 555948.1403876375, 44890188.679245286, 81632747.74774775, 44321828.358208954, 117635183.09859155, 49307617.44966443, 58179792.89940828, 1150661.1044894715, 51373195.12195122, 86377293.814433, 45280805.50098232, 45217054.67372134, 38500397.35099338, 39399308.411214955, 33982627.84090909, 40100178.04154303, 44374558.99198167, 35572290.43683589, 25850274.285714287, 25827112.74060495, 2377766.2311955662, 28134960.62992126, 20516433.12101911, 33494370.257966615, 23842229.965156794, 25402310.14677728, 25945674.704976913, 10718612.9753915, 4323871.525775574, 3788726.222347471, 14754919.053549191, 18014947.987336047, 11537883.793790942, 11948384.126984127, 6880003.227368081, 9362288.792288791, 8564989.406779662, 10329967.581047382], \"y\": [\"99\", \"97\", \"95\", \"91\", \"94\", \"89\", \"92\", \"82\", \"93\", \"116\", \"96\", \"113\", \"114\", \"110\", \"87\", \"79\", \"86\", \"112\", \"84\", \"4\", \"90\", \"85\", \"6\", \"74\", \"77\", \"81\", \"88\", \"83\", \"80\", \"72\", \"76\", \"5\", \"67\", \"78\", \"71\", \"73\", \"70\", \"69\", \"75\", \"66\", \"65\", \"7\", \"62\", \"63\", \"68\", \"64\", \"60\", \"59\", \"61\", \"58\", \"56\", \"55\", \"54\", \"57\", \"53\", \"50\", \"52\", \"51\", \"47\", \"49\", \"46\", \"44\", \"8\", \"43\", \"48\", \"45\", \"40\", \"42\", \"41\", \"9\", \"38\", \"39\", \"36\", \"34\", \"37\", \"35\", \"32\", \"33\", \"30\", \"31\", \"29\", \"28\", \"10\", \"27\", \"25\", \"26\", \"23\", \"24\", \"22\", \"19\", \"11\", \"12\", \"20\", \"21\", \"17\", \"18\", \"13\", \"14\", \"15\", \"16\"], \"type\": \"bar\", \"uid\": \"afcf7124-d661-11e8-ae82-7f47ae10e8a3\", \"xaxis\": \"x2\", \"yaxis\": \"y2\"}, {\"marker\": {\"color\": \"green\"}, \"orientation\": \"h\", \"showlegend\": false, \"x\": [9.0, 9.0, 10.0, 10.0, 10.0, 11.0, 11.0, 12.0, 12.0, 12.0, 12.0, 12.0, 13.0, 13.0, 14.0, 15.0, 15.0, 18.0, 19.0, 19.0, 19.0, 20.0, 21.0, 21.0, 23.0, 23.0, 23.0, 24.0, 25.0, 26.0, 27.0, 28.0, 30.0, 32.0, 32.0, 34.0, 34.0, 36.0, 38.0, 38.0, 43.0, 46.0, 46.0, 51.0, 54.0, 54.0, 57.0, 58.0, 63.0, 63.0, 64.0, 67.0, 69.0, 72.0, 75.0, 81.0, 83.0, 90.0, 94.0, 94.0, 104.0, 105.0, 111.0, 122.0, 123.0, 124.0, 129.0, 133.0, 135.0, 145.0, 155.0, 159.0, 172.0, 175.0, 177.0, 193.0, 193.0, 193.0, 198.0, 204.0, 207.0, 222.0, 258.0, 261.0, 263.0, 267.0, 269.0, 279.0, 290.0, 292.0, 311.0, 313.0, 313.0, 329.0, 345.0, 348.0, 348.0, 354.0, 362.0, 375.0], \"y\": [\"108\", \"105\", \"103\", \"126\", \"112\", \"104\", \"92\", \"106\", \"110\", \"100\", \"99\", \"5\", \"89\", \"93\", \"88\", \"101\", \"96\", \"91\", \"90\", \"85\", \"7\", \"94\", \"78\", \"79\", \"86\", \"76\", \"83\", \"82\", \"77\", \"81\", \"84\", \"80\", \"73\", \"72\", \"70\", \"75\", \"74\", \"71\", \"67\", \"69\", \"65\", \"68\", \"64\", \"63\", \"8\", \"66\", \"54\", \"56\", \"59\", \"58\", \"62\", \"55\", \"61\", \"52\", \"60\", \"50\", \"57\", \"53\", \"49\", \"9\", \"51\", \"47\", \"48\", \"44\", \"10\", \"45\", \"46\", \"41\", \"42\", \"39\", \"43\", \"40\", \"38\", \"36\", \"37\", \"33\", \"11\", \"35\", \"34\", \"32\", \"31\", \"29\", \"12\", \"30\", \"27\", \"28\", \"25\", \"26\", \"22\", \"24\", \"23\", \"21\", \"13\", \"20\", \"19\", \"17\", \"14\", \"15\", \"16\", \"18\"], \"type\": \"bar\", \"uid\": \"afcfff54-d661-11e8-ae82-7f47ae10e8a3\", \"xaxis\": \"x3\", \"yaxis\": \"y3\"}, {\"marker\": {\"color\": \"green\"}, \"orientation\": \"h\", \"showlegend\": false, \"x\": [194503703.7037037, 81733928.57142857, 123397037.03703703, 116495882.35294117, 62074500.0, 83974642.85714285, 81120857.14285715, 207930666.66666666, 99815357.14285715, 56551794.87179487, 109791666.66666667, 73759.0096641779, 45161875.0, 70628095.23809524, 77046153.84615384, 81508000.0, 81547647.05882353, 495178333.3333333, 81856000.0, 61661864.40677966, 63304.12952146737, 86927000.0, 69467605.63380282, 57264603.17460317, 112774426.22950819, 59142021.27659574, 127562187.5, 211252027.02702704, 136299259.25925925, 123194225.35211268, 89548840.57971014, 84389500.0, 47360170.940170944, 75174318.18181819, 40991263.15789474, 61946979.166666664, 93572169.81132075, 65684672.13114754, 72258487.39495799, 76665655.73770492, 45098717.94871795, 82313000.0, 80283012.82051282, 67125448.27586207, 352975.32937225525, 61320354.60992908, 56416219.512195125, 53111137.440758295, 42207536.94581281, 162106632.12435234, 51805561.79775281, 51763832.59911894, 67052525.252525255, 39714099.61685824, 54145000.0, 64740727.848101266, 95806226.41509435, 55610929.36802974, 43833333.333333336, 791887.4913187746, 43806636.63663664, 45363884.29752066, 45593409.74212034, 35638876.65198238, 1233364.6616541354, 32720022.83105023, 37988490.56603774, 50722350.81374322, 35545104.36432637, 23077893.217893217, 30993073.85229541, 27639838.969404187, 25286864.64088398, 18703286.624203824, 33418697.986577183, 31256165.254237287, 2303424.006908463, 33220852.071005918, 30262884.160756502, 29161295.95588235, 22823541.666666668, 14759922.54066615, 2526206.3713669246, 21744887.50969744, 16684674.20212766, 16862823.61308677, 12173937.662337663, 18447473.806752037, 8392866.370609608, 13575757.290686736, 12030031.96347032, 9243927.805575412, 3342075.2797558494, 10030558.093994778, 10344870.859920997, 9575670.702179177, 4171619.309008718, 6311662.332838039, 7404215.436810857, 6359800.266311585], \"y\": [\"108\", \"105\", \"103\", \"126\", \"112\", \"104\", \"92\", \"106\", \"110\", \"100\", \"99\", \"5\", \"89\", \"93\", \"88\", \"101\", \"96\", \"91\", \"90\", \"85\", \"7\", \"94\", \"78\", \"79\", \"86\", \"76\", \"83\", \"82\", \"77\", \"81\", \"84\", \"80\", \"73\", \"72\", \"70\", \"75\", \"74\", \"71\", \"67\", \"69\", \"65\", \"68\", \"64\", \"63\", \"8\", \"66\", \"54\", \"56\", \"59\", \"58\", \"62\", \"55\", \"61\", \"52\", \"60\", \"50\", \"57\", \"53\", \"49\", \"9\", \"51\", \"47\", \"48\", \"44\", \"10\", \"45\", \"46\", \"41\", \"42\", \"39\", \"43\", \"40\", \"38\", \"36\", \"37\", \"33\", \"11\", \"35\", \"34\", \"32\", \"31\", \"29\", \"12\", \"30\", \"27\", \"28\", \"25\", \"26\", \"22\", \"24\", \"23\", \"21\", \"13\", \"20\", \"19\", \"17\", \"14\", \"15\", \"16\", \"18\"], \"type\": \"bar\", \"uid\": \"afd09572-d661-11e8-ae82-7f47ae10e8a3\", \"xaxis\": \"x4\", \"yaxis\": \"y4\"}], {\"annotations\": [{\"font\": {\"size\": 16}, \"showarrow\": false, \"text\": \"Page Views - Count of Non-zero Revenue Transaction\", \"x\": 0.225, \"xanchor\": \"center\", \"xref\": \"paper\", \"y\": 1.0, \"yanchor\": \"bottom\", \"yref\": \"paper\"}, {\"font\": {\"size\": 16}, \"showarrow\": false, \"text\": \"Page Views - Average Revenue\", \"x\": 0.775, \"xanchor\": \"center\", \"xref\": \"paper\", \"y\": 1.0, \"yanchor\": \"bottom\", \"yref\": \"paper\"}, {\"font\": {\"size\": 16}, \"showarrow\": false, \"text\": \"Hits - Count of Non-zero Revenue Transaction\", \"x\": 0.225, \"xanchor\": \"center\", \"xref\": \"paper\", \"y\": 0.45, \"yanchor\": \"bottom\", \"yref\": \"paper\"}, {\"font\": {\"size\": 16}, \"showarrow\": false, \"text\": \"Hits - Average Revenue\", \"x\": 0.775, \"xanchor\": \"center\", \"xref\": \"paper\", \"y\": 0.45, \"yanchor\": \"bottom\", \"yref\": \"paper\"}], \"xaxis\": {\"anchor\": \"y\", \"domain\": [0.0, 0.45]}, \"yaxis\": {\"anchor\": \"x\", \"domain\": [0.55, 1.0]}, \"xaxis2\": {\"anchor\": \"y2\", \"domain\": [0.55, 1.0]}, \"yaxis2\": {\"anchor\": \"x2\", \"domain\": [0.55, 1.0]}, \"xaxis3\": {\"anchor\": \"y3\", \"domain\": [0.0, 0.45]}, \"yaxis3\": {\"anchor\": \"x3\", \"domain\": [0.0, 0.45]}, \"xaxis4\": {\"anchor\": \"y4\", \"domain\": [0.55, 1.0]}, \"yaxis4\": {\"anchor\": \"x4\", \"domain\": [0.0, 0.45]}, \"height\": 800, \"width\": 1400, \"paper_bgcolor\": \"rgb(233,233,233)\", \"title\": \"Visitor Behavior Plots\"}, {\"showLink\": true, \"linkText\": \"Export to plot.ly\"})});</script>",
            "text/vnd.plotly.v1+html": "<div id=\"8bf5a0d4-ce84-49f2-8851-c67e4e0f0445\" style=\"height: 800px; width: 1400px;\" class=\"plotly-graph-div\"></div><script type=\"text/javascript\">require([\"plotly\"], function(Plotly) { window.PLOTLYENV=window.PLOTLYENV || {};window.PLOTLYENV.BASE_URL=\"https://plot.ly\";Plotly.newPlot(\"8bf5a0d4-ce84-49f2-8851-c67e4e0f0445\", [{\"marker\": {\"color\": \"green\"}, \"orientation\": \"h\", \"showlegend\": false, \"x\": [4.0, 4.0, 4.0, 5.0, 5.0, 5.0, 5.0, 5.0, 5.0, 5.0, 5.0, 5.0, 6.0, 6.0, 6.0, 6.0, 6.0, 7.0, 8.0, 8.0, 8.0, 9.0, 9.0, 10.0, 10.0, 11.0, 11.0, 12.0, 12.0, 12.0, 13.0, 13.0, 14.0, 14.0, 16.0, 17.0, 20.0, 20.0, 21.0, 23.0, 23.0, 25.0, 25.0, 26.0, 27.0, 28.0, 29.0, 32.0, 34.0, 35.0, 37.0, 39.0, 41.0, 48.0, 50.0, 62.0, 62.0, 63.0, 73.0, 76.0, 77.0, 81.0, 83.0, 92.0, 95.0, 97.0, 108.0, 109.0, 112.0, 136.0, 139.0, 140.0, 158.0, 160.0, 164.0, 175.0, 189.0, 199.0, 238.0, 240.0, 242.0, 251.0, 257.0, 268.0, 297.0, 331.0, 334.0, 347.0, 367.0, 367.0, 374.0, 385.0, 397.0, 407.0, 445.0, 451.0, 453.0, 467.0, 471.0, 478.0], \"y\": [\"99\", \"97\", \"95\", \"91\", \"94\", \"89\", \"92\", \"82\", \"93\", \"116\", \"96\", \"113\", \"114\", \"110\", \"87\", \"79\", \"86\", \"112\", \"84\", \"4\", \"90\", \"85\", \"6\", \"74\", \"77\", \"81\", \"88\", \"83\", \"80\", \"72\", \"76\", \"5\", \"67\", \"78\", \"71\", \"73\", \"70\", \"69\", \"75\", \"66\", \"65\", \"7\", \"62\", \"63\", \"68\", \"64\", \"60\", \"59\", \"61\", \"58\", \"56\", \"55\", \"54\", \"57\", \"53\", \"50\", \"52\", \"51\", \"47\", \"49\", \"46\", \"44\", \"8\", \"43\", \"48\", \"45\", \"40\", \"42\", \"41\", \"9\", \"38\", \"39\", \"36\", \"34\", \"37\", \"35\", \"32\", \"33\", \"30\", \"31\", \"29\", \"28\", \"10\", \"27\", \"25\", \"26\", \"23\", \"24\", \"22\", \"19\", \"11\", \"12\", \"20\", \"21\", \"17\", \"18\", \"13\", \"14\", \"15\", \"16\"], \"type\": \"bar\", \"uid\": \"afcec058-d661-11e8-ae82-7f47ae10e8a3\", \"xaxis\": \"x\", \"yaxis\": \"y\"}, {\"marker\": {\"color\": \"green\"}, \"orientation\": \"h\", \"showlegend\": false, \"x\": [83097692.3076923, 89670000.0, 77675555.55555555, 63635000.0, 78468000.0, 740866818.1818181, 56149285.71428572, 138746500.0, 49050588.23529412, 352808571.4285714, 60314166.666666664, 48970000.0, 489562857.14285713, 182588000.0, 284478666.6666667, 43206818.18181818, 80930476.1904762, 362037000.0, 172873333.33333334, 22001.681713577625, 39481818.18181818, 52350476.190476194, 13590.0032404407, 49492812.5, 58395333.333333336, 131689583.33333333, 123306818.18181819, 215815833.33333334, 74806363.63636364, 46973250.0, 90042432.43243243, 81348.6576277274, 29770344.827586208, 279901818.1818182, 99242608.69565217, 72563488.37209302, 176117200.0, 79828235.29411764, 132464222.22222222, 177051176.47058824, 76771571.42857143, 79878.31176833026, 99433150.6849315, 79822253.52112676, 96597666.66666667, 350684366.1971831, 74411666.66666667, 83155454.54545455, 129445243.90243903, 96109255.31914894, 106529642.85714285, 79385564.51612903, 47803955.2238806, 107104649.12280701, 73320148.14814815, 57421604.938271604, 119983035.71428572, 75426358.69565217, 71900666.66666667, 90101041.66666667, 59933000.0, 50430206.61157025, 555948.1403876375, 44890188.679245286, 81632747.74774775, 44321828.358208954, 117635183.09859155, 49307617.44966443, 58179792.89940828, 1150661.1044894715, 51373195.12195122, 86377293.814433, 45280805.50098232, 45217054.67372134, 38500397.35099338, 39399308.411214955, 33982627.84090909, 40100178.04154303, 44374558.99198167, 35572290.43683589, 25850274.285714287, 25827112.74060495, 2377766.2311955662, 28134960.62992126, 20516433.12101911, 33494370.257966615, 23842229.965156794, 25402310.14677728, 25945674.704976913, 10718612.9753915, 4323871.525775574, 3788726.222347471, 14754919.053549191, 18014947.987336047, 11537883.793790942, 11948384.126984127, 6880003.227368081, 9362288.792288791, 8564989.406779662, 10329967.581047382], \"y\": [\"99\", \"97\", \"95\", \"91\", \"94\", \"89\", \"92\", \"82\", \"93\", \"116\", \"96\", \"113\", \"114\", \"110\", \"87\", \"79\", \"86\", \"112\", \"84\", \"4\", \"90\", \"85\", \"6\", \"74\", \"77\", \"81\", \"88\", \"83\", \"80\", \"72\", \"76\", \"5\", \"67\", \"78\", \"71\", \"73\", \"70\", \"69\", \"75\", \"66\", \"65\", \"7\", \"62\", \"63\", \"68\", \"64\", \"60\", \"59\", \"61\", \"58\", \"56\", \"55\", \"54\", \"57\", \"53\", \"50\", \"52\", \"51\", \"47\", \"49\", \"46\", \"44\", \"8\", \"43\", \"48\", \"45\", \"40\", \"42\", \"41\", \"9\", \"38\", \"39\", \"36\", \"34\", \"37\", \"35\", \"32\", \"33\", \"30\", \"31\", \"29\", \"28\", \"10\", \"27\", \"25\", \"26\", \"23\", \"24\", \"22\", \"19\", \"11\", \"12\", \"20\", \"21\", \"17\", \"18\", \"13\", \"14\", \"15\", \"16\"], \"type\": \"bar\", \"uid\": \"afcf7124-d661-11e8-ae82-7f47ae10e8a3\", \"xaxis\": \"x2\", \"yaxis\": \"y2\"}, {\"marker\": {\"color\": \"green\"}, \"orientation\": \"h\", \"showlegend\": false, \"x\": [9.0, 9.0, 10.0, 10.0, 10.0, 11.0, 11.0, 12.0, 12.0, 12.0, 12.0, 12.0, 13.0, 13.0, 14.0, 15.0, 15.0, 18.0, 19.0, 19.0, 19.0, 20.0, 21.0, 21.0, 23.0, 23.0, 23.0, 24.0, 25.0, 26.0, 27.0, 28.0, 30.0, 32.0, 32.0, 34.0, 34.0, 36.0, 38.0, 38.0, 43.0, 46.0, 46.0, 51.0, 54.0, 54.0, 57.0, 58.0, 63.0, 63.0, 64.0, 67.0, 69.0, 72.0, 75.0, 81.0, 83.0, 90.0, 94.0, 94.0, 104.0, 105.0, 111.0, 122.0, 123.0, 124.0, 129.0, 133.0, 135.0, 145.0, 155.0, 159.0, 172.0, 175.0, 177.0, 193.0, 193.0, 193.0, 198.0, 204.0, 207.0, 222.0, 258.0, 261.0, 263.0, 267.0, 269.0, 279.0, 290.0, 292.0, 311.0, 313.0, 313.0, 329.0, 345.0, 348.0, 348.0, 354.0, 362.0, 375.0], \"y\": [\"108\", \"105\", \"103\", \"126\", \"112\", \"104\", \"92\", \"106\", \"110\", \"100\", \"99\", \"5\", \"89\", \"93\", \"88\", \"101\", \"96\", \"91\", \"90\", \"85\", \"7\", \"94\", \"78\", \"79\", \"86\", \"76\", \"83\", \"82\", \"77\", \"81\", \"84\", \"80\", \"73\", \"72\", \"70\", \"75\", \"74\", \"71\", \"67\", \"69\", \"65\", \"68\", \"64\", \"63\", \"8\", \"66\", \"54\", \"56\", \"59\", \"58\", \"62\", \"55\", \"61\", \"52\", \"60\", \"50\", \"57\", \"53\", \"49\", \"9\", \"51\", \"47\", \"48\", \"44\", \"10\", \"45\", \"46\", \"41\", \"42\", \"39\", \"43\", \"40\", \"38\", \"36\", \"37\", \"33\", \"11\", \"35\", \"34\", \"32\", \"31\", \"29\", \"12\", \"30\", \"27\", \"28\", \"25\", \"26\", \"22\", \"24\", \"23\", \"21\", \"13\", \"20\", \"19\", \"17\", \"14\", \"15\", \"16\", \"18\"], \"type\": \"bar\", \"uid\": \"afcfff54-d661-11e8-ae82-7f47ae10e8a3\", \"xaxis\": \"x3\", \"yaxis\": \"y3\"}, {\"marker\": {\"color\": \"green\"}, \"orientation\": \"h\", \"showlegend\": false, \"x\": [194503703.7037037, 81733928.57142857, 123397037.03703703, 116495882.35294117, 62074500.0, 83974642.85714285, 81120857.14285715, 207930666.66666666, 99815357.14285715, 56551794.87179487, 109791666.66666667, 73759.0096641779, 45161875.0, 70628095.23809524, 77046153.84615384, 81508000.0, 81547647.05882353, 495178333.3333333, 81856000.0, 61661864.40677966, 63304.12952146737, 86927000.0, 69467605.63380282, 57264603.17460317, 112774426.22950819, 59142021.27659574, 127562187.5, 211252027.02702704, 136299259.25925925, 123194225.35211268, 89548840.57971014, 84389500.0, 47360170.940170944, 75174318.18181819, 40991263.15789474, 61946979.166666664, 93572169.81132075, 65684672.13114754, 72258487.39495799, 76665655.73770492, 45098717.94871795, 82313000.0, 80283012.82051282, 67125448.27586207, 352975.32937225525, 61320354.60992908, 56416219.512195125, 53111137.440758295, 42207536.94581281, 162106632.12435234, 51805561.79775281, 51763832.59911894, 67052525.252525255, 39714099.61685824, 54145000.0, 64740727.848101266, 95806226.41509435, 55610929.36802974, 43833333.333333336, 791887.4913187746, 43806636.63663664, 45363884.29752066, 45593409.74212034, 35638876.65198238, 1233364.6616541354, 32720022.83105023, 37988490.56603774, 50722350.81374322, 35545104.36432637, 23077893.217893217, 30993073.85229541, 27639838.969404187, 25286864.64088398, 18703286.624203824, 33418697.986577183, 31256165.254237287, 2303424.006908463, 33220852.071005918, 30262884.160756502, 29161295.95588235, 22823541.666666668, 14759922.54066615, 2526206.3713669246, 21744887.50969744, 16684674.20212766, 16862823.61308677, 12173937.662337663, 18447473.806752037, 8392866.370609608, 13575757.290686736, 12030031.96347032, 9243927.805575412, 3342075.2797558494, 10030558.093994778, 10344870.859920997, 9575670.702179177, 4171619.309008718, 6311662.332838039, 7404215.436810857, 6359800.266311585], \"y\": [\"108\", \"105\", \"103\", \"126\", \"112\", \"104\", \"92\", \"106\", \"110\", \"100\", \"99\", \"5\", \"89\", \"93\", \"88\", \"101\", \"96\", \"91\", \"90\", \"85\", \"7\", \"94\", \"78\", \"79\", \"86\", \"76\", \"83\", \"82\", \"77\", \"81\", \"84\", \"80\", \"73\", \"72\", \"70\", \"75\", \"74\", \"71\", \"67\", \"69\", \"65\", \"68\", \"64\", \"63\", \"8\", \"66\", \"54\", \"56\", \"59\", \"58\", \"62\", \"55\", \"61\", \"52\", \"60\", \"50\", \"57\", \"53\", \"49\", \"9\", \"51\", \"47\", \"48\", \"44\", \"10\", \"45\", \"46\", \"41\", \"42\", \"39\", \"43\", \"40\", \"38\", \"36\", \"37\", \"33\", \"11\", \"35\", \"34\", \"32\", \"31\", \"29\", \"12\", \"30\", \"27\", \"28\", \"25\", \"26\", \"22\", \"24\", \"23\", \"21\", \"13\", \"20\", \"19\", \"17\", \"14\", \"15\", \"16\", \"18\"], \"type\": \"bar\", \"uid\": \"afd09572-d661-11e8-ae82-7f47ae10e8a3\", \"xaxis\": \"x4\", \"yaxis\": \"y4\"}], {\"annotations\": [{\"font\": {\"size\": 16}, \"showarrow\": false, \"text\": \"Page Views - Count of Non-zero Revenue Transaction\", \"x\": 0.225, \"xanchor\": \"center\", \"xref\": \"paper\", \"y\": 1.0, \"yanchor\": \"bottom\", \"yref\": \"paper\"}, {\"font\": {\"size\": 16}, \"showarrow\": false, \"text\": \"Page Views - Average Revenue\", \"x\": 0.775, \"xanchor\": \"center\", \"xref\": \"paper\", \"y\": 1.0, \"yanchor\": \"bottom\", \"yref\": \"paper\"}, {\"font\": {\"size\": 16}, \"showarrow\": false, \"text\": \"Hits - Count of Non-zero Revenue Transaction\", \"x\": 0.225, \"xanchor\": \"center\", \"xref\": \"paper\", \"y\": 0.45, \"yanchor\": \"bottom\", \"yref\": \"paper\"}, {\"font\": {\"size\": 16}, \"showarrow\": false, \"text\": \"Hits - Average Revenue\", \"x\": 0.775, \"xanchor\": \"center\", \"xref\": \"paper\", \"y\": 0.45, \"yanchor\": \"bottom\", \"yref\": \"paper\"}], \"xaxis\": {\"anchor\": \"y\", \"domain\": [0.0, 0.45]}, \"yaxis\": {\"anchor\": \"x\", \"domain\": [0.55, 1.0]}, \"xaxis2\": {\"anchor\": \"y2\", \"domain\": [0.55, 1.0]}, \"yaxis2\": {\"anchor\": \"x2\", \"domain\": [0.55, 1.0]}, \"xaxis3\": {\"anchor\": \"y3\", \"domain\": [0.0, 0.45]}, \"yaxis3\": {\"anchor\": \"x3\", \"domain\": [0.0, 0.45]}, \"xaxis4\": {\"anchor\": \"y4\", \"domain\": [0.55, 1.0]}, \"yaxis4\": {\"anchor\": \"x4\", \"domain\": [0.0, 0.45]}, \"height\": 800, \"width\": 1400, \"paper_bgcolor\": \"rgb(233,233,233)\", \"title\": \"Visitor Behavior Plots\"}, {\"showLink\": true, \"linkText\": \"Export to plot.ly\"})});</script>"
          },
          "metadata": {}
        }
      ]
    },
    {
      "metadata": {
        "_uuid": "6ea83f3ef369443f70a4988cca9dadb033208852"
      },
      "cell_type": "markdown",
      "source": "**Question 3: **\n\nClustering under geography"
    },
    {
      "metadata": {
        "trusted": true,
        "_uuid": "4d97fa7c1de1ea209db2544f16def1daa3686b91"
      },
      "cell_type": "code",
      "source": "# Defining function for plotting\n# Clustering data\ntrain_df['transactionRevenue_non_zero'] = train_df['totals.transactionRevenue']>0\n# Cluster by geography\n# continent\ncluster_info = train_df.groupby('geoNetwork.continent').agg({'transactionRevenue_non_zero':'sum', 'totals.transactionRevenue':['mean']})\ncluster_info.columns = [\"count of non-zero revenue\", \"average\"]\ncluster_info = cluster_info.sort_values(by=\"count of non-zero revenue\", ascending=False)\nbar_chart_continent_count = horizontal_bar_chart(cluster_info[\"count of non-zero revenue\"].head(10))\nbar_chart_continent_mean = horizontal_bar_chart(cluster_info[\"average\"].head(10))\n# subcontinent\ncluster_info = train_df.groupby('geoNetwork.subContinent').agg({'transactionRevenue_non_zero':'sum', 'totals.transactionRevenue':['mean']})\ncluster_info.columns = [\"count of non-zero revenue\", \"average\"]\ncluster_info = cluster_info.sort_values(by=\"count of non-zero revenue\", ascending=False)\nbar_chart_subcontinent_count = horizontal_bar_chart(cluster_info[\"count of non-zero revenue\"].head(10))\nbar_chart_subcontinent_mean = horizontal_bar_chart(cluster_info[\"average\"].head(10))\n# country\ncluster_info = train_df.groupby('geoNetwork.country').agg({'transactionRevenue_non_zero':'sum', 'totals.transactionRevenue':['mean']})\ncluster_info.columns = [\"count of non-zero revenue\", \"average\"]\ncluster_info = cluster_info.sort_values(by=\"count of non-zero revenue\", ascending=False)\nbar_chart_country_count = horizontal_bar_chart(cluster_info[\"count of non-zero revenue\"].head(10))\nbar_chart_country_mean = horizontal_bar_chart(cluster_info[\"average\"].head(10))\n# city\ncluster_info = train_df.groupby('geoNetwork.city').agg({'transactionRevenue_non_zero':'sum', 'totals.transactionRevenue':['mean']})\ncluster_info.columns = [\"count of non-zero revenue\", \"average\"]\ncluster_info = cluster_info.sort_values(by=\"count of non-zero revenue\", ascending=False)\nbar_chart_city_count = horizontal_bar_chart(cluster_info[\"count of non-zero revenue\"].head(10))\nbar_chart_city_mean = horizontal_bar_chart(cluster_info[\"average\"].head(10))\n\n\nfigure = tools.make_subplots(rows=4, cols=2, vertical_spacing=0.1, \n                                         subplot_titles=[\"Continent - Count of Non-zero Revenue Transaction\", \"Continent - Average Revenue\",\n                                          \"Subcotinent - Count of Non-zero Revenue Transaction\", \"Subcotinent - Average Revenue\", \n                                          \"Country - Count of Non-zero Revenue Transaction\", \"Country - Average Revenue\",\n                                          \"City - Count of Non-zero Revenue Transaction\", \"City - Average Revenue\"])\nfigure.append_trace(bar_chart_continent_count, 1, 1)\nfigure.append_trace(bar_chart_continent_mean, 1, 2)\nfigure.append_trace(bar_chart_subcontinent_count, 2, 1)\nfigure.append_trace(bar_chart_subcontinent_mean, 2, 2)\nfigure.append_trace(bar_chart_country_count, 3, 1)\nfigure.append_trace(bar_chart_country_mean, 3, 2)\nfigure.append_trace(bar_chart_city_count, 4, 1)\nfigure.append_trace(bar_chart_city_mean, 4, 2)\nfigure['layout'].update(height=1400, width=1400, paper_bgcolor='rgb(233,233,233)', title=\"Geography Statistics\")\npy.iplot(figure, filename='geography-plots')\n\n",
      "execution_count": 7,
      "outputs": [
        {
          "output_type": "stream",
          "text": "This is the format of your plot grid:\n[ (1,1) x1,y1 ]  [ (1,2) x2,y2 ]\n[ (2,1) x3,y3 ]  [ (2,2) x4,y4 ]\n[ (3,1) x5,y5 ]  [ (3,2) x6,y6 ]\n[ (4,1) x7,y7 ]  [ (4,2) x8,y8 ]\n\n",
          "name": "stdout"
        },
        {
          "output_type": "display_data",
          "data": {
            "application/vnd.plotly.v1+json": {
              "data": [
                {
                  "marker": {
                    "color": "green"
                  },
                  "orientation": "h",
                  "showlegend": false,
                  "x": [
                    6,
                    8,
                    14,
                    79,
                    125,
                    11283
                  ],
                  "y": [
                    "(not set)",
                    "Africa",
                    "Oceania",
                    "Europe",
                    "Asia",
                    "Americas"
                  ],
                  "type": "bar",
                  "uid": "b2f2ceaa-d661-11e8-ae82-7f47ae10e8a3",
                  "xaxis": "x",
                  "yaxis": "y"
                },
                {
                  "marker": {
                    "color": "green"
                  },
                  "orientation": "h",
                  "showlegend": false,
                  "x": [
                    524373.2970027248,
                    589200.4069175991,
                    119119.83525973163,
                    34022.4697570987,
                    77791.6655490885,
                    3340915.7217175835
                  ],
                  "y": [
                    "(not set)",
                    "Africa",
                    "Oceania",
                    "Europe",
                    "Asia",
                    "Americas"
                  ],
                  "type": "bar",
                  "uid": "b2f35514-d661-11e8-ae82-7f47ae10e8a3",
                  "xaxis": "x2",
                  "yaxis": "y2"
                },
                {
                  "marker": {
                    "color": "green"
                  },
                  "orientation": "h",
                  "showlegend": false,
                  "x": [
                    14,
                    16,
                    21,
                    26,
                    27,
                    30,
                    32,
                    59,
                    98,
                    11143
                  ],
                  "y": [
                    "Eastern Europe",
                    "Caribbean",
                    "Western Asia",
                    "Central America",
                    "Northern Europe",
                    "Western Europe",
                    "Southeast Asia",
                    "Eastern Asia",
                    "South America",
                    "Northern America"
                  ],
                  "type": "bar",
                  "uid": "b2f3da98-d661-11e8-ae82-7f47ae10e8a3",
                  "xaxis": "x3",
                  "yaxis": "y3"
                },
                {
                  "marker": {
                    "color": "green"
                  },
                  "orientation": "h",
                  "showlegend": false,
                  "x": [
                    20924.21931976397,
                    649854.5303408146,
                    46329.37075670473,
                    122283.89912083681,
                    34277.95351395957,
                    48082.34935886592,
                    48277.50642673522,
                    236049.78793239413,
                    381905.7774795715,
                    3801967.429228198
                  ],
                  "y": [
                    "Eastern Europe",
                    "Caribbean",
                    "Western Asia",
                    "Central America",
                    "Northern Europe",
                    "Western Europe",
                    "Southeast Asia",
                    "Eastern Asia",
                    "South America",
                    "Northern America"
                  ],
                  "type": "bar",
                  "uid": "b2f478ea-d661-11e8-ae82-7f47ae10e8a3",
                  "xaxis": "x4",
                  "yaxis": "y4"
                },
                {
                  "marker": {
                    "color": "green"
                  },
                  "orientation": "h",
                  "showlegend": false,
                  "x": [
                    11,
                    11,
                    13,
                    16,
                    17,
                    19,
                    20,
                    63,
                    190,
                    10953
                  ],
                  "y": [
                    "Indonesia",
                    "Puerto Rico",
                    "Australia",
                    "United Kingdom",
                    "Japan",
                    "Taiwan",
                    "Mexico",
                    "Venezuela",
                    "Canada",
                    "United States"
                  ],
                  "type": "bar",
                  "uid": "b2f5072e-d661-11e8-ae82-7f47ae10e8a3",
                  "xaxis": "x5",
                  "yaxis": "y5"
                },
                {
                  "marker": {
                    "color": "green"
                  },
                  "orientation": "h",
                  "showlegend": false,
                  "x": [
                    198466.51569071496,
                    1643224.043715847,
                    137443.6919199874,
                    45180.916214264704,
                    341036.4401196087,
                    147806.2480763312,
                    120437.80718336484,
                    6273405.253283302,
                    1268875.488035873,
                    3982082.3646173757
                  ],
                  "y": [
                    "Indonesia",
                    "Puerto Rico",
                    "Australia",
                    "United Kingdom",
                    "Japan",
                    "Taiwan",
                    "Mexico",
                    "Venezuela",
                    "Canada",
                    "United States"
                  ],
                  "type": "bar",
                  "uid": "b2f58dc0-d661-11e8-ae82-7f47ae10e8a3",
                  "xaxis": "x6",
                  "yaxis": "y6"
                },
                {
                  "marker": {
                    "color": "green"
                  },
                  "orientation": "h",
                  "showlegend": false,
                  "x": [
                    202,
                    210,
                    228,
                    289,
                    422,
                    455,
                    729,
                    1209,
                    1506,
                    4579
                  ],
                  "y": [
                    "San Jose",
                    "Austin",
                    "Seattle",
                    "Los Angeles",
                    "Chicago",
                    "Sunnyvale",
                    "San Francisco",
                    "Mountain View",
                    "New York",
                    "not available in demo dataset"
                  ],
                  "type": "bar",
                  "uid": "b2f6113c-d661-11e8-ae82-7f47ae10e8a3",
                  "xaxis": "x7",
                  "yaxis": "y7"
                },
                {
                  "marker": {
                    "color": "green"
                  },
                  "orientation": "h",
                  "showlegend": false,
                  "x": [
                    1819250.121418164,
                    5489440.633245382,
                    5371377.114427861,
                    4832333.333333333,
                    9787013.702310586,
                    3010360.690814611,
                    4962071.916965911,
                    3084426.181391253,
                    8347939.403132228,
                    1271397.5589743992
                  ],
                  "y": [
                    "San Jose",
                    "Austin",
                    "Seattle",
                    "Los Angeles",
                    "Chicago",
                    "Sunnyvale",
                    "San Francisco",
                    "Mountain View",
                    "New York",
                    "not available in demo dataset"
                  ],
                  "type": "bar",
                  "uid": "b2f69648-d661-11e8-ae82-7f47ae10e8a3",
                  "xaxis": "x8",
                  "yaxis": "y8"
                }
              ],
              "layout": {
                "annotations": [
                  {
                    "font": {
                      "size": 16
                    },
                    "showarrow": false,
                    "text": "Continent - Count of Non-zero Revenue Transaction",
                    "x": 0.225,
                    "xanchor": "center",
                    "xref": "paper",
                    "y": 1,
                    "yanchor": "bottom",
                    "yref": "paper"
                  },
                  {
                    "font": {
                      "size": 16
                    },
                    "showarrow": false,
                    "text": "Continent - Average Revenue",
                    "x": 0.775,
                    "xanchor": "center",
                    "xref": "paper",
                    "y": 1,
                    "yanchor": "bottom",
                    "yref": "paper"
                  },
                  {
                    "font": {
                      "size": 16
                    },
                    "showarrow": false,
                    "text": "Subcotinent - Count of Non-zero Revenue Transaction",
                    "x": 0.225,
                    "xanchor": "center",
                    "xref": "paper",
                    "y": 0.7250000000000001,
                    "yanchor": "bottom",
                    "yref": "paper"
                  },
                  {
                    "font": {
                      "size": 16
                    },
                    "showarrow": false,
                    "text": "Subcotinent - Average Revenue",
                    "x": 0.775,
                    "xanchor": "center",
                    "xref": "paper",
                    "y": 0.7250000000000001,
                    "yanchor": "bottom",
                    "yref": "paper"
                  },
                  {
                    "font": {
                      "size": 16
                    },
                    "showarrow": false,
                    "text": "Country - Count of Non-zero Revenue Transaction",
                    "x": 0.225,
                    "xanchor": "center",
                    "xref": "paper",
                    "y": 0.45,
                    "yanchor": "bottom",
                    "yref": "paper"
                  },
                  {
                    "font": {
                      "size": 16
                    },
                    "showarrow": false,
                    "text": "Country - Average Revenue",
                    "x": 0.775,
                    "xanchor": "center",
                    "xref": "paper",
                    "y": 0.45,
                    "yanchor": "bottom",
                    "yref": "paper"
                  },
                  {
                    "font": {
                      "size": 16
                    },
                    "showarrow": false,
                    "text": "City - Count of Non-zero Revenue Transaction",
                    "x": 0.225,
                    "xanchor": "center",
                    "xref": "paper",
                    "y": 0.175,
                    "yanchor": "bottom",
                    "yref": "paper"
                  },
                  {
                    "font": {
                      "size": 16
                    },
                    "showarrow": false,
                    "text": "City - Average Revenue",
                    "x": 0.775,
                    "xanchor": "center",
                    "xref": "paper",
                    "y": 0.175,
                    "yanchor": "bottom",
                    "yref": "paper"
                  }
                ],
                "xaxis": {
                  "anchor": "y",
                  "domain": [
                    0,
                    0.45
                  ]
                },
                "yaxis": {
                  "anchor": "x",
                  "domain": [
                    0.825,
                    1
                  ]
                },
                "xaxis2": {
                  "anchor": "y2",
                  "domain": [
                    0.55,
                    1
                  ]
                },
                "yaxis2": {
                  "anchor": "x2",
                  "domain": [
                    0.825,
                    1
                  ]
                },
                "xaxis3": {
                  "anchor": "y3",
                  "domain": [
                    0,
                    0.45
                  ]
                },
                "yaxis3": {
                  "anchor": "x3",
                  "domain": [
                    0.55,
                    0.7250000000000001
                  ]
                },
                "xaxis4": {
                  "anchor": "y4",
                  "domain": [
                    0.55,
                    1
                  ]
                },
                "yaxis4": {
                  "anchor": "x4",
                  "domain": [
                    0.55,
                    0.7250000000000001
                  ]
                },
                "xaxis5": {
                  "anchor": "y5",
                  "domain": [
                    0,
                    0.45
                  ]
                },
                "yaxis5": {
                  "anchor": "x5",
                  "domain": [
                    0.275,
                    0.45
                  ]
                },
                "xaxis6": {
                  "anchor": "y6",
                  "domain": [
                    0.55,
                    1
                  ]
                },
                "yaxis6": {
                  "anchor": "x6",
                  "domain": [
                    0.275,
                    0.45
                  ]
                },
                "xaxis7": {
                  "anchor": "y7",
                  "domain": [
                    0,
                    0.45
                  ]
                },
                "yaxis7": {
                  "anchor": "x7",
                  "domain": [
                    0,
                    0.175
                  ]
                },
                "xaxis8": {
                  "anchor": "y8",
                  "domain": [
                    0.55,
                    1
                  ]
                },
                "yaxis8": {
                  "anchor": "x8",
                  "domain": [
                    0,
                    0.175
                  ]
                },
                "height": 1400,
                "width": 1400,
                "paper_bgcolor": "rgb(233,233,233)",
                "title": "Geography Statistics"
              }
            },
            "text/html": "<div id=\"74ae23d8-bccb-471f-82c0-df5d23f1d188\" style=\"height: 1400px; width: 1400px;\" class=\"plotly-graph-div\"></div><script type=\"text/javascript\">require([\"plotly\"], function(Plotly) { window.PLOTLYENV=window.PLOTLYENV || {};window.PLOTLYENV.BASE_URL=\"https://plot.ly\";Plotly.newPlot(\"74ae23d8-bccb-471f-82c0-df5d23f1d188\", [{\"marker\": {\"color\": \"green\"}, \"orientation\": \"h\", \"showlegend\": false, \"x\": [6.0, 8.0, 14.0, 79.0, 125.0, 11283.0], \"y\": [\"(not set)\", \"Africa\", \"Oceania\", \"Europe\", \"Asia\", \"Americas\"], \"type\": \"bar\", \"uid\": \"b2f2ceaa-d661-11e8-ae82-7f47ae10e8a3\", \"xaxis\": \"x\", \"yaxis\": \"y\"}, {\"marker\": {\"color\": \"green\"}, \"orientation\": \"h\", \"showlegend\": false, \"x\": [524373.2970027248, 589200.4069175991, 119119.83525973163, 34022.4697570987, 77791.6655490885, 3340915.7217175835], \"y\": [\"(not set)\", \"Africa\", \"Oceania\", \"Europe\", \"Asia\", \"Americas\"], \"type\": \"bar\", \"uid\": \"b2f35514-d661-11e8-ae82-7f47ae10e8a3\", \"xaxis\": \"x2\", \"yaxis\": \"y2\"}, {\"marker\": {\"color\": \"green\"}, \"orientation\": \"h\", \"showlegend\": false, \"x\": [14.0, 16.0, 21.0, 26.0, 27.0, 30.0, 32.0, 59.0, 98.0, 11143.0], \"y\": [\"Eastern Europe\", \"Caribbean\", \"Western Asia\", \"Central America\", \"Northern Europe\", \"Western Europe\", \"Southeast Asia\", \"Eastern Asia\", \"South America\", \"Northern America\"], \"type\": \"bar\", \"uid\": \"b2f3da98-d661-11e8-ae82-7f47ae10e8a3\", \"xaxis\": \"x3\", \"yaxis\": \"y3\"}, {\"marker\": {\"color\": \"green\"}, \"orientation\": \"h\", \"showlegend\": false, \"x\": [20924.21931976397, 649854.5303408146, 46329.37075670473, 122283.89912083681, 34277.95351395957, 48082.34935886592, 48277.50642673522, 236049.78793239413, 381905.7774795715, 3801967.429228198], \"y\": [\"Eastern Europe\", \"Caribbean\", \"Western Asia\", \"Central America\", \"Northern Europe\", \"Western Europe\", \"Southeast Asia\", \"Eastern Asia\", \"South America\", \"Northern America\"], \"type\": \"bar\", \"uid\": \"b2f478ea-d661-11e8-ae82-7f47ae10e8a3\", \"xaxis\": \"x4\", \"yaxis\": \"y4\"}, {\"marker\": {\"color\": \"green\"}, \"orientation\": \"h\", \"showlegend\": false, \"x\": [11.0, 11.0, 13.0, 16.0, 17.0, 19.0, 20.0, 63.0, 190.0, 10953.0], \"y\": [\"Indonesia\", \"Puerto Rico\", \"Australia\", \"United Kingdom\", \"Japan\", \"Taiwan\", \"Mexico\", \"Venezuela\", \"Canada\", \"United States\"], \"type\": \"bar\", \"uid\": \"b2f5072e-d661-11e8-ae82-7f47ae10e8a3\", \"xaxis\": \"x5\", \"yaxis\": \"y5\"}, {\"marker\": {\"color\": \"green\"}, \"orientation\": \"h\", \"showlegend\": false, \"x\": [198466.51569071496, 1643224.043715847, 137443.6919199874, 45180.916214264704, 341036.4401196087, 147806.2480763312, 120437.80718336484, 6273405.253283302, 1268875.488035873, 3982082.3646173757], \"y\": [\"Indonesia\", \"Puerto Rico\", \"Australia\", \"United Kingdom\", \"Japan\", \"Taiwan\", \"Mexico\", \"Venezuela\", \"Canada\", \"United States\"], \"type\": \"bar\", \"uid\": \"b2f58dc0-d661-11e8-ae82-7f47ae10e8a3\", \"xaxis\": \"x6\", \"yaxis\": \"y6\"}, {\"marker\": {\"color\": \"green\"}, \"orientation\": \"h\", \"showlegend\": false, \"x\": [202.0, 210.0, 228.0, 289.0, 422.0, 455.0, 729.0, 1209.0, 1506.0, 4579.0], \"y\": [\"San Jose\", \"Austin\", \"Seattle\", \"Los Angeles\", \"Chicago\", \"Sunnyvale\", \"San Francisco\", \"Mountain View\", \"New York\", \"not available in demo dataset\"], \"type\": \"bar\", \"uid\": \"b2f6113c-d661-11e8-ae82-7f47ae10e8a3\", \"xaxis\": \"x7\", \"yaxis\": \"y7\"}, {\"marker\": {\"color\": \"green\"}, \"orientation\": \"h\", \"showlegend\": false, \"x\": [1819250.121418164, 5489440.633245382, 5371377.114427861, 4832333.333333333, 9787013.702310586, 3010360.690814611, 4962071.916965911, 3084426.181391253, 8347939.403132228, 1271397.5589743992], \"y\": [\"San Jose\", \"Austin\", \"Seattle\", \"Los Angeles\", \"Chicago\", \"Sunnyvale\", \"San Francisco\", \"Mountain View\", \"New York\", \"not available in demo dataset\"], \"type\": \"bar\", \"uid\": \"b2f69648-d661-11e8-ae82-7f47ae10e8a3\", \"xaxis\": \"x8\", \"yaxis\": \"y8\"}], {\"annotations\": [{\"font\": {\"size\": 16}, \"showarrow\": false, \"text\": \"Continent - Count of Non-zero Revenue Transaction\", \"x\": 0.225, \"xanchor\": \"center\", \"xref\": \"paper\", \"y\": 1.0, \"yanchor\": \"bottom\", \"yref\": \"paper\"}, {\"font\": {\"size\": 16}, \"showarrow\": false, \"text\": \"Continent - Average Revenue\", \"x\": 0.775, \"xanchor\": \"center\", \"xref\": \"paper\", \"y\": 1.0, \"yanchor\": \"bottom\", \"yref\": \"paper\"}, {\"font\": {\"size\": 16}, \"showarrow\": false, \"text\": \"Subcotinent - Count of Non-zero Revenue Transaction\", \"x\": 0.225, \"xanchor\": \"center\", \"xref\": \"paper\", \"y\": 0.7250000000000001, \"yanchor\": \"bottom\", \"yref\": \"paper\"}, {\"font\": {\"size\": 16}, \"showarrow\": false, \"text\": \"Subcotinent - Average Revenue\", \"x\": 0.775, \"xanchor\": \"center\", \"xref\": \"paper\", \"y\": 0.7250000000000001, \"yanchor\": \"bottom\", \"yref\": \"paper\"}, {\"font\": {\"size\": 16}, \"showarrow\": false, \"text\": \"Country - Count of Non-zero Revenue Transaction\", \"x\": 0.225, \"xanchor\": \"center\", \"xref\": \"paper\", \"y\": 0.45, \"yanchor\": \"bottom\", \"yref\": \"paper\"}, {\"font\": {\"size\": 16}, \"showarrow\": false, \"text\": \"Country - Average Revenue\", \"x\": 0.775, \"xanchor\": \"center\", \"xref\": \"paper\", \"y\": 0.45, \"yanchor\": \"bottom\", \"yref\": \"paper\"}, {\"font\": {\"size\": 16}, \"showarrow\": false, \"text\": \"City - Count of Non-zero Revenue Transaction\", \"x\": 0.225, \"xanchor\": \"center\", \"xref\": \"paper\", \"y\": 0.175, \"yanchor\": \"bottom\", \"yref\": \"paper\"}, {\"font\": {\"size\": 16}, \"showarrow\": false, \"text\": \"City - Average Revenue\", \"x\": 0.775, \"xanchor\": \"center\", \"xref\": \"paper\", \"y\": 0.175, \"yanchor\": \"bottom\", \"yref\": \"paper\"}], \"xaxis\": {\"anchor\": \"y\", \"domain\": [0.0, 0.45]}, \"yaxis\": {\"anchor\": \"x\", \"domain\": [0.825, 1.0]}, \"xaxis2\": {\"anchor\": \"y2\", \"domain\": [0.55, 1.0]}, \"yaxis2\": {\"anchor\": \"x2\", \"domain\": [0.825, 1.0]}, \"xaxis3\": {\"anchor\": \"y3\", \"domain\": [0.0, 0.45]}, \"yaxis3\": {\"anchor\": \"x3\", \"domain\": [0.55, 0.7250000000000001]}, \"xaxis4\": {\"anchor\": \"y4\", \"domain\": [0.55, 1.0]}, \"yaxis4\": {\"anchor\": \"x4\", \"domain\": [0.55, 0.7250000000000001]}, \"xaxis5\": {\"anchor\": \"y5\", \"domain\": [0.0, 0.45]}, \"yaxis5\": {\"anchor\": \"x5\", \"domain\": [0.275, 0.45]}, \"xaxis6\": {\"anchor\": \"y6\", \"domain\": [0.55, 1.0]}, \"yaxis6\": {\"anchor\": \"x6\", \"domain\": [0.275, 0.45]}, \"xaxis7\": {\"anchor\": \"y7\", \"domain\": [0.0, 0.45]}, \"yaxis7\": {\"anchor\": \"x7\", \"domain\": [0.0, 0.175]}, \"xaxis8\": {\"anchor\": \"y8\", \"domain\": [0.55, 1.0]}, \"yaxis8\": {\"anchor\": \"x8\", \"domain\": [0.0, 0.175]}, \"height\": 1400, \"width\": 1400, \"paper_bgcolor\": \"rgb(233,233,233)\", \"title\": \"Geography Statistics\"}, {\"showLink\": true, \"linkText\": \"Export to plot.ly\"})});</script>",
            "text/vnd.plotly.v1+html": "<div id=\"74ae23d8-bccb-471f-82c0-df5d23f1d188\" style=\"height: 1400px; width: 1400px;\" class=\"plotly-graph-div\"></div><script type=\"text/javascript\">require([\"plotly\"], function(Plotly) { window.PLOTLYENV=window.PLOTLYENV || {};window.PLOTLYENV.BASE_URL=\"https://plot.ly\";Plotly.newPlot(\"74ae23d8-bccb-471f-82c0-df5d23f1d188\", [{\"marker\": {\"color\": \"green\"}, \"orientation\": \"h\", \"showlegend\": false, \"x\": [6.0, 8.0, 14.0, 79.0, 125.0, 11283.0], \"y\": [\"(not set)\", \"Africa\", \"Oceania\", \"Europe\", \"Asia\", \"Americas\"], \"type\": \"bar\", \"uid\": \"b2f2ceaa-d661-11e8-ae82-7f47ae10e8a3\", \"xaxis\": \"x\", \"yaxis\": \"y\"}, {\"marker\": {\"color\": \"green\"}, \"orientation\": \"h\", \"showlegend\": false, \"x\": [524373.2970027248, 589200.4069175991, 119119.83525973163, 34022.4697570987, 77791.6655490885, 3340915.7217175835], \"y\": [\"(not set)\", \"Africa\", \"Oceania\", \"Europe\", \"Asia\", \"Americas\"], \"type\": \"bar\", \"uid\": \"b2f35514-d661-11e8-ae82-7f47ae10e8a3\", \"xaxis\": \"x2\", \"yaxis\": \"y2\"}, {\"marker\": {\"color\": \"green\"}, \"orientation\": \"h\", \"showlegend\": false, \"x\": [14.0, 16.0, 21.0, 26.0, 27.0, 30.0, 32.0, 59.0, 98.0, 11143.0], \"y\": [\"Eastern Europe\", \"Caribbean\", \"Western Asia\", \"Central America\", \"Northern Europe\", \"Western Europe\", \"Southeast Asia\", \"Eastern Asia\", \"South America\", \"Northern America\"], \"type\": \"bar\", \"uid\": \"b2f3da98-d661-11e8-ae82-7f47ae10e8a3\", \"xaxis\": \"x3\", \"yaxis\": \"y3\"}, {\"marker\": {\"color\": \"green\"}, \"orientation\": \"h\", \"showlegend\": false, \"x\": [20924.21931976397, 649854.5303408146, 46329.37075670473, 122283.89912083681, 34277.95351395957, 48082.34935886592, 48277.50642673522, 236049.78793239413, 381905.7774795715, 3801967.429228198], \"y\": [\"Eastern Europe\", \"Caribbean\", \"Western Asia\", \"Central America\", \"Northern Europe\", \"Western Europe\", \"Southeast Asia\", \"Eastern Asia\", \"South America\", \"Northern America\"], \"type\": \"bar\", \"uid\": \"b2f478ea-d661-11e8-ae82-7f47ae10e8a3\", \"xaxis\": \"x4\", \"yaxis\": \"y4\"}, {\"marker\": {\"color\": \"green\"}, \"orientation\": \"h\", \"showlegend\": false, \"x\": [11.0, 11.0, 13.0, 16.0, 17.0, 19.0, 20.0, 63.0, 190.0, 10953.0], \"y\": [\"Indonesia\", \"Puerto Rico\", \"Australia\", \"United Kingdom\", \"Japan\", \"Taiwan\", \"Mexico\", \"Venezuela\", \"Canada\", \"United States\"], \"type\": \"bar\", \"uid\": \"b2f5072e-d661-11e8-ae82-7f47ae10e8a3\", \"xaxis\": \"x5\", \"yaxis\": \"y5\"}, {\"marker\": {\"color\": \"green\"}, \"orientation\": \"h\", \"showlegend\": false, \"x\": [198466.51569071496, 1643224.043715847, 137443.6919199874, 45180.916214264704, 341036.4401196087, 147806.2480763312, 120437.80718336484, 6273405.253283302, 1268875.488035873, 3982082.3646173757], \"y\": [\"Indonesia\", \"Puerto Rico\", \"Australia\", \"United Kingdom\", \"Japan\", \"Taiwan\", \"Mexico\", \"Venezuela\", \"Canada\", \"United States\"], \"type\": \"bar\", \"uid\": \"b2f58dc0-d661-11e8-ae82-7f47ae10e8a3\", \"xaxis\": \"x6\", \"yaxis\": \"y6\"}, {\"marker\": {\"color\": \"green\"}, \"orientation\": \"h\", \"showlegend\": false, \"x\": [202.0, 210.0, 228.0, 289.0, 422.0, 455.0, 729.0, 1209.0, 1506.0, 4579.0], \"y\": [\"San Jose\", \"Austin\", \"Seattle\", \"Los Angeles\", \"Chicago\", \"Sunnyvale\", \"San Francisco\", \"Mountain View\", \"New York\", \"not available in demo dataset\"], \"type\": \"bar\", \"uid\": \"b2f6113c-d661-11e8-ae82-7f47ae10e8a3\", \"xaxis\": \"x7\", \"yaxis\": \"y7\"}, {\"marker\": {\"color\": \"green\"}, \"orientation\": \"h\", \"showlegend\": false, \"x\": [1819250.121418164, 5489440.633245382, 5371377.114427861, 4832333.333333333, 9787013.702310586, 3010360.690814611, 4962071.916965911, 3084426.181391253, 8347939.403132228, 1271397.5589743992], \"y\": [\"San Jose\", \"Austin\", \"Seattle\", \"Los Angeles\", \"Chicago\", \"Sunnyvale\", \"San Francisco\", \"Mountain View\", \"New York\", \"not available in demo dataset\"], \"type\": \"bar\", \"uid\": \"b2f69648-d661-11e8-ae82-7f47ae10e8a3\", \"xaxis\": \"x8\", \"yaxis\": \"y8\"}], {\"annotations\": [{\"font\": {\"size\": 16}, \"showarrow\": false, \"text\": \"Continent - Count of Non-zero Revenue Transaction\", \"x\": 0.225, \"xanchor\": \"center\", \"xref\": \"paper\", \"y\": 1.0, \"yanchor\": \"bottom\", \"yref\": \"paper\"}, {\"font\": {\"size\": 16}, \"showarrow\": false, \"text\": \"Continent - Average Revenue\", \"x\": 0.775, \"xanchor\": \"center\", \"xref\": \"paper\", \"y\": 1.0, \"yanchor\": \"bottom\", \"yref\": \"paper\"}, {\"font\": {\"size\": 16}, \"showarrow\": false, \"text\": \"Subcotinent - Count of Non-zero Revenue Transaction\", \"x\": 0.225, \"xanchor\": \"center\", \"xref\": \"paper\", \"y\": 0.7250000000000001, \"yanchor\": \"bottom\", \"yref\": \"paper\"}, {\"font\": {\"size\": 16}, \"showarrow\": false, \"text\": \"Subcotinent - Average Revenue\", \"x\": 0.775, \"xanchor\": \"center\", \"xref\": \"paper\", \"y\": 0.7250000000000001, \"yanchor\": \"bottom\", \"yref\": \"paper\"}, {\"font\": {\"size\": 16}, \"showarrow\": false, \"text\": \"Country - Count of Non-zero Revenue Transaction\", \"x\": 0.225, \"xanchor\": \"center\", \"xref\": \"paper\", \"y\": 0.45, \"yanchor\": \"bottom\", \"yref\": \"paper\"}, {\"font\": {\"size\": 16}, \"showarrow\": false, \"text\": \"Country - Average Revenue\", \"x\": 0.775, \"xanchor\": \"center\", \"xref\": \"paper\", \"y\": 0.45, \"yanchor\": \"bottom\", \"yref\": \"paper\"}, {\"font\": {\"size\": 16}, \"showarrow\": false, \"text\": \"City - Count of Non-zero Revenue Transaction\", \"x\": 0.225, \"xanchor\": \"center\", \"xref\": \"paper\", \"y\": 0.175, \"yanchor\": \"bottom\", \"yref\": \"paper\"}, {\"font\": {\"size\": 16}, \"showarrow\": false, \"text\": \"City - Average Revenue\", \"x\": 0.775, \"xanchor\": \"center\", \"xref\": \"paper\", \"y\": 0.175, \"yanchor\": \"bottom\", \"yref\": \"paper\"}], \"xaxis\": {\"anchor\": \"y\", \"domain\": [0.0, 0.45]}, \"yaxis\": {\"anchor\": \"x\", \"domain\": [0.825, 1.0]}, \"xaxis2\": {\"anchor\": \"y2\", \"domain\": [0.55, 1.0]}, \"yaxis2\": {\"anchor\": \"x2\", \"domain\": [0.825, 1.0]}, \"xaxis3\": {\"anchor\": \"y3\", \"domain\": [0.0, 0.45]}, \"yaxis3\": {\"anchor\": \"x3\", \"domain\": [0.55, 0.7250000000000001]}, \"xaxis4\": {\"anchor\": \"y4\", \"domain\": [0.55, 1.0]}, \"yaxis4\": {\"anchor\": \"x4\", \"domain\": [0.55, 0.7250000000000001]}, \"xaxis5\": {\"anchor\": \"y5\", \"domain\": [0.0, 0.45]}, \"yaxis5\": {\"anchor\": \"x5\", \"domain\": [0.275, 0.45]}, \"xaxis6\": {\"anchor\": \"y6\", \"domain\": [0.55, 1.0]}, \"yaxis6\": {\"anchor\": \"x6\", \"domain\": [0.275, 0.45]}, \"xaxis7\": {\"anchor\": \"y7\", \"domain\": [0.0, 0.45]}, \"yaxis7\": {\"anchor\": \"x7\", \"domain\": [0.0, 0.175]}, \"xaxis8\": {\"anchor\": \"y8\", \"domain\": [0.55, 1.0]}, \"yaxis8\": {\"anchor\": \"x8\", \"domain\": [0.0, 0.175]}, \"height\": 1400, \"width\": 1400, \"paper_bgcolor\": \"rgb(233,233,233)\", \"title\": \"Geography Statistics\"}, {\"showLink\": true, \"linkText\": \"Export to plot.ly\"})});</script>"
          },
          "metadata": {}
        }
      ]
    },
    {
      "metadata": {
        "_uuid": "e56879296ca7ebe3dbc443fc4992c362afa80789"
      },
      "cell_type": "markdown",
      "source": "**Question 5:**\n\nFor extending dataset, we use two dataset that we think might affect the customer's behaviors in GStore, they are:\n\n1) The stock market performance of GStore:\nA company's stock price reflects its performance as well as opinions of customers/investors about it and therefore, might reflect their intention to buy products from the company. For example, if the new released product is a good product, having many good review from critics and journalists, then the price of the stock will rise, and customers also would like to buy new products, too. In contrast, if there is something wrong with the new product, the stock price will drop and customers would not like to buy it. For example, when the Samsung Galaxy Note 7 is announced to be very dangerous, the Samsung stock price decrease drastically, the customers also postponed their decision to buy that product.\n\n2) The price of USD overtime:\nFor countries in Asia, such as Vietnam (my country), we do care allot about this exhange rates, since it greatly affects the price of the product. Indeed, many of the products on GStore are sold in USD, and we then multiply them with the exchange rate (USD->VND) to have the amount of VND we have to pay. Many times, if the USD is strong, the exchange rate will be high, and therefore we have to pay more. Many times we consider buying or not because of this. \n"
    },
    {
      "metadata": {
        "trusted": true,
        "_uuid": "efca7d37fc87de0a84f68a0678fa1d54b267268d"
      },
      "cell_type": "code",
      "source": "# Augmented dataset 1 - Google Stock price\nGOO_stock = pd.read_csv(\"../input/google-stock-price/GOO_stock.csv\", skipinitialspace=True)\nGOO_stock.date = pd.to_datetime(GOO_stock.date).dt.date\nGOO_stock_dict = GOO_stock.set_index('date')['close'].to_dict()\ntrain_df['GOO_stock'] = pd.to_datetime(train_df['visitStartTime_translated'].dt.date).map(GOO_stock_dict)\ntrain_df['GOO_stock'] = train_df['GOO_stock'].convert_objects(convert_numeric=True)\ntrain_df.loc[train_df['GOO_stock'].isnull(),'GOO_stock'] = 0\ntest_df['GOO_stock'] = pd.to_datetime(test_df['visitStartTime_translated'].dt.date).map(GOO_stock_dict)\ntest_df['GOO_stock'] = test_df['GOO_stock'].convert_objects(convert_numeric=True)\ntest_df.loc[test_df['GOO_stock'].isnull(),'GOO_stock'] = 0\n\n# Augmented dataset 2 - USD price\nusd_to_eur = pd.read_csv(\"../input/google-stock-price/usd_to_eur.csv\", skipinitialspace=True)\nusd_to_eur_dict = usd_to_eur.set_index('DATE')['DEXUSEU'].to_dict()\ntrain_df['usd_to_eur'] = train_df['visitStartTime_translated'].dt.date.astype(str).map(usd_to_eur_dict)\ntrain_df['usd_to_eur'] = train_df['usd_to_eur'].convert_objects(convert_numeric=True)\ntrain_df.loc[train_df['usd_to_eur'].isnull(),'usd_to_eur'] = 0\ntest_df['usd_to_eur'] = test_df['visitStartTime_translated'].dt.date.astype(str).map(usd_to_eur_dict)\ntest_df['usd_to_eur'] = test_df['usd_to_eur'].convert_objects(convert_numeric=True)\ntest_df.loc[test_df['usd_to_eur'].isnull(),'usd_to_eur'] = 0",
      "execution_count": 8,
      "outputs": [
        {
          "output_type": "stream",
          "text": "/opt/conda/lib/python3.6/site-packages/ipykernel_launcher.py:6: FutureWarning:\n\nconvert_objects is deprecated.  To re-infer data dtypes for object columns, use Series.infer_objects()\nFor all other conversions use the data-type specific converters pd.to_datetime, pd.to_timedelta and pd.to_numeric.\n\n/opt/conda/lib/python3.6/site-packages/ipykernel_launcher.py:9: FutureWarning:\n\nconvert_objects is deprecated.  To re-infer data dtypes for object columns, use Series.infer_objects()\nFor all other conversions use the data-type specific converters pd.to_datetime, pd.to_timedelta and pd.to_numeric.\n\n/opt/conda/lib/python3.6/site-packages/ipykernel_launcher.py:16: FutureWarning:\n\nconvert_objects is deprecated.  To re-infer data dtypes for object columns, use Series.infer_objects()\nFor all other conversions use the data-type specific converters pd.to_datetime, pd.to_timedelta and pd.to_numeric.\n\n/opt/conda/lib/python3.6/site-packages/ipykernel_launcher.py:19: FutureWarning:\n\nconvert_objects is deprecated.  To re-infer data dtypes for object columns, use Series.infer_objects()\nFor all other conversions use the data-type specific converters pd.to_datetime, pd.to_timedelta and pd.to_numeric.\n\n",
          "name": "stderr"
        }
      ]
    },
    {
      "metadata": {
        "_uuid": "5c45c92a7bafdfba54b7e15f830617c5dff6a729"
      },
      "cell_type": "markdown",
      "source": "**Question 4:**\n\nProcessing category data for training and testing models:\n    - Turning category features to numbers by factorizing them. For category each feature, I sort the feature in terms of number of true buyers (having positive revenue). Then assign 1 for the value having lowest number of buyers and assign N (the number of unique values of that category features) for the one having highest number of buyers. Other values are assigned to be the order of them in the sort respectively. This is to utilize the category information. If we just assign them randomly, we will accidentally introduce an \"meaningless order\" to the values and therefore, might affect badly the model."
    },
    {
      "metadata": {
        "trusted": true,
        "_uuid": "bb30502fef952ced896f2657fa4b6d652fb2e630",
        "scrolled": true
      },
      "cell_type": "code",
      "source": "# Back-up data\ntrain_df0 = train_df.copy()\ntest_df0 = test_df.copy()\n# train_df = train_df0.copy()\n# test_df = test_df0.copy()\n\n# Turn category variables to numbers\ncat_cols = [\"channelGrouping\", \"device.browser\", \n            \"device.deviceCategory\", \"device.operatingSystem\", \n            \"geoNetwork.city\", \"geoNetwork.continent\", \n            \"geoNetwork.country\", \"geoNetwork.metro\",\n            \"geoNetwork.networkDomain\", \"geoNetwork.region\", \n            \"geoNetwork.subContinent\", \n            ]\ntrain_df_positive_revenue = train_df[train_df['totals.transactionRevenue']>0]\ntrain_df_temp = train_df.copy()\ntest_df_temp = test_df.copy()\nfor col in cat_cols:\n    print(col)\n    lbl = preprocessing.LabelEncoder()\n    group_by_col_counts = train_df_positive_revenue.groupby(col).agg({col:'count'}).rename(columns={col:'counts'})\n    sorted_10_group_by_col_counts = group_by_col_counts.sort_values(by=['counts'], ascending=False)[0:max(10,group_by_col_counts.shape[0])]\n    sorted_10_index_list = sorted_10_group_by_col_counts.index\n    train_df_temp.loc[-train_df_temp[col].isin(sorted_10_index_list), col] = \"Non-significant\"    \n    test_df_temp.loc[-test_df_temp[col].isin(sorted_10_index_list), col] = \"Non-significant\"\n    sorted_11_index_list = np.append(sorted_10_index_list, \"Non-significant\")\n    lbl.fit(sorted_11_index_list)\n    classes = lbl.classes_\n    \n    train_df_temp[col] = lbl.transform(list(train_df_temp[col].values.astype('str'))).astype(float)\n    test_df_temp[col] = lbl.transform(list(test_df_temp[col].values.astype('str'))).astype(float)  \n    for i in range(sorted_11_index_list.shape[0]):\n        class_ith = list(classes).index(sorted_11_index_list[i])\n        train_df.loc[train_df_temp[col].values == class_ith, col] = float(i)\n        test_df.loc[test_df_temp[col].values == class_ith, col] = float(i)\n        \n        \n# Turn numeric columns to float\nnum_cols = [\"totals.hits\", \"totals.pageviews\", \"visitNumber\", \"visit_hour\", \"visit_month\", 'usd_to_eur', 'GOO_stock']    \nfor col in num_cols:\n    print(col)\n    train_df[col] = train_df[col].astype(float)\n    train_df[col] = train_df[col].fillna(train_df[col].mean())\n    test_df[col] = test_df[col].astype(float)\n    test_df[col] = test_df[col].fillna(test_df[col].mean())    \n   \ntrain_df.to_csv('train_processed.csv')\ntest_df.to_csv('test_processed.csv')",
      "execution_count": 9,
      "outputs": [
        {
          "output_type": "stream",
          "text": "channelGrouping\ndevice.browser\ndevice.deviceCategory\ndevice.operatingSystem\ngeoNetwork.city\ngeoNetwork.continent\ngeoNetwork.country\ngeoNetwork.metro\ngeoNetwork.networkDomain\ngeoNetwork.region\ngeoNetwork.subContinent\ntotals.hits\ntotals.pageviews\nvisitNumber\nvisit_hour\nvisit_month\nusd_to_eur\nGOO_stock\n",
          "name": "stdout"
        }
      ]
    },
    {
      "metadata": {
        "_uuid": "535a00015ee85ec6b937c1c3694b5d96490edd2d"
      },
      "cell_type": "markdown",
      "source": "Defining a score. Here we use the logistic regression to compute the probability a user would buy in GStore."
    },
    {
      "metadata": {
        "trusted": true,
        "_uuid": "0f31f2b70b81bb4d1e9e08db5af215217e4cb0a6"
      },
      "cell_type": "code",
      "source": "# Cluster across unique users\ncluster_info = train_df.groupby('fullVisitorId').agg('mean')\ncluster_info['totals.transactionRevenue'] = train_df.groupby('fullVisitorId').agg({'totals.transactionRevenue':np.sum})\ncluster_info['totals.pageviews'] = train_df.groupby('fullVisitorId').agg({'totals.pageviews':np.sum})\ncluster_info['visitNumber'] = train_df.groupby('fullVisitorId').agg({'visitNumber': 'max'})\ncluster_info['totals.hits'] = train_df.groupby('fullVisitorId').agg({'totals.hits':np.sum})\ncluster_info['fullVisitorId'] = cluster_info.index\n\n# Defining a function for scoring the probability a customer buying a product from Google store\nfrom sklearn import linear_model\nclf = linear_model.LogisticRegression()\nfeatures = ['visitNumber','totals.pageviews','visitNumber','totals.hits', 'visit_hour']\n# features = cat_cols + num_cols\nX = cluster_info[features]\n\n# To have it fair, we train a same amount of negative and positive samples\nX_positive = cluster_info[features][cluster_info['totals.transactionRevenue'] > 0]\nnum_positive = X_positive.shape[0]\nnum_negative = num_positive\nX_negative = cluster_info[features][0:num_negative]\nX_combined = X_positive.append(X_negative)\ny_label = np.append(np.ones([num_positive,1]),np.zeros([num_negative,1]))\nclf.fit(X_combined, y_label)\ny_predicted = clf.predict_proba(X)\ny_prediction = pd.DataFrame({'fullVisitorId': cluster_info['fullVisitorId'], 'totals.transactionRevenue' :y_predicted[:,1]})\ny_prediction_sorted = y_prediction.sort_values(by=['totals.transactionRevenue'], ascending = False)\ny_prediction_sorted[0:10]\ncluster_info['totals.transactionRevenue'][y_prediction_sorted[0:10]['fullVisitorId']]\n\n",
      "execution_count": 10,
      "outputs": [
        {
          "output_type": "execute_result",
          "execution_count": 10,
          "data": {
            "text/plain": "fullVisitorId\n596895434219823695     4.509100e+08\n1814166460229302850    7.042510e+09\n213465488216513322     1.325570e+09\n4921413806940784676    3.314300e+08\n0092531753747954140    0.000000e+00\n4278365513858458160    6.744000e+07\n4086679804074527652    0.000000e+00\n5341271361784611942    2.969540e+09\n9771437221362506189    5.678900e+08\n7638336411447332495    1.577490e+09\nName: totals.transactionRevenue, dtype: float64"
          },
          "metadata": {}
        }
      ]
    },
    {
      "metadata": {
        "_uuid": "37c0e4f096fe45dd49735f065635336075b83362"
      },
      "cell_type": "markdown",
      "source": "**Questions 5:**\n\nBuilding model for our regressor. The technique used is LightGBM. With tuned parameters.\n\n** Caveat: Here I also consult SRK's model. I actually tried many models before this (Linear regression, Ridge regression, even neural network,...) but they either are not so accurate or taking too long to train (neural network). I find his model pretty effective and also very interesting. So I choose to apply it and have learned a lot about this new knowledge. However, there should be some differences between my model and his model in terms of features. I have explained above about the difference in  our features (more specifically the way we preprocess features)."
    },
    {
      "metadata": {
        "trusted": true,
        "_uuid": "20eec98a2e753df5ce87e8e19695d177b4261346"
      },
      "cell_type": "code",
      "source": "def model(X_train, y_train, X_val, y_val):\n    X_train = X_train.loc[:, X_train.columns != 'fullVisitorId']\n    X_val = X_val.loc[:, X_val.columns != 'fullVisitorId']\n    \n    params = {\n        \"objective\" : \"regression\", \"metric\" : \"rmse\", \"num_leaves\" : 30,\"min_child_samples\" : 95,\"learning_rate\" : 0.05,\"bagging_fraction\" : 0.7,\"feature_fraction\" : 0.5,\"bagging_frequency\" : 5,\"bagging_seed\" : 2000,\"verbosity\" : -1\n    }\n    \n    lgtrain = lgb.Dataset(X_train, label=y_train)\n    lgval = lgb.Dataset(X_val, label=y_val)\n    reg = lgb.train(params, lgtrain, 1000, valid_sets=[lgval], early_stopping_rounds=100, verbose_eval=100)\n\n    return reg",
      "execution_count": 11,
      "outputs": []
    },
    {
      "metadata": {
        "_uuid": "1974fea90f0ab670dc1c629b57b30b1eefda151b"
      },
      "cell_type": "markdown",
      "source": "Training and validating on available dataset."
    },
    {
      "metadata": {
        "trusted": true,
        "_uuid": "6da1c07b955d87dee6f4f3c600d3752882a521aa"
      },
      "cell_type": "code",
      "source": "# Building training data\nmodel_features = ['fullVisitorId'] + cat_cols + num_cols \nX = train_df[model_features]\nX_test = test_df[model_features]\ny = train_df['totals.transactionRevenue'].astype(float)\ny = np.log1p(y)\nfrom sklearn.model_selection import train_test_split\nX_train, X_val, y_train, y_val = train_test_split(X, y, test_size=0.2)\n\n# Training model\nmodel = model(X_train, y_train, X_val, y_val)\n\n# Validating \nX_val_nouserID = X_val.loc[:, X_val.columns != 'fullVisitorId']\ny_val_prediction = np.expm1(model.predict(X_val_nouserID, num_iteration=model.best_iteration))\ny_val_prediction[y_val_prediction<0] = 0\ny_val_prediction_dataframe = pd.DataFrame({'fullVisitorId': X_val['fullVisitorId'], 'totals.transactionRevenue' :y_val_prediction})\ny_val_prediction_user = np.log1p(y_val_prediction_dataframe.groupby('fullVisitorId').agg('sum'))\ny_val = np.expm1(y_val)\ny_val_dataframe = pd.DataFrame({'fullVisitorId': X_val['fullVisitorId'], 'totals.transactionRevenue' :y_val})\ny_val_user = np.log1p(y_val_dataframe.groupby('fullVisitorId').agg('sum'))\nnp.sqrt(metrics.mean_squared_error(y_val_prediction_user, y_val_user))",
      "execution_count": 12,
      "outputs": [
        {
          "output_type": "stream",
          "text": "Training until validation scores don't improve for 100 rounds.\n[100]\tvalid_0's rmse: 1.60434\n[200]\tvalid_0's rmse: 1.59231\n[300]\tvalid_0's rmse: 1.58521\n[400]\tvalid_0's rmse: 1.58247\n[500]\tvalid_0's rmse: 1.581\n[600]\tvalid_0's rmse: 1.58092\nEarly stopping, best iteration is:\n[544]\tvalid_0's rmse: 1.58067\n",
          "name": "stdout"
        },
        {
          "output_type": "execute_result",
          "execution_count": 12,
          "data": {
            "text/plain": "1.5916751076544868"
          },
          "metadata": {}
        }
      ]
    },
    {
      "metadata": {
        "_uuid": "578d1282bf9047e017e24f962db198fa2228685d"
      },
      "cell_type": "markdown",
      "source": "Testing and creating submission file."
    },
    {
      "metadata": {
        "trusted": true,
        "_uuid": "4b3430f4faa15340e3921029a6da703f15528879"
      },
      "cell_type": "code",
      "source": "X_test_nouserID = X_test.loc[:, X_test.columns != 'fullVisitorId']\ny_test_prediction = np.expm1(model.predict(X_test_nouserID, num_iteration=model.best_iteration))\ny_test_prediction[y_test_prediction<0] = 0\nsubmission_df = pd.DataFrame({\"fullVisitorId\":X_test[\"fullVisitorId\"], 'totals.transactionRevenue' :y_test_prediction})\nsubmission_df = submission_df.groupby(\"fullVisitorId\")[\"totals.transactionRevenue\"].sum().reset_index()\nsubmission_df[\"totals.transactionRevenue\"] = np.log1p(submission_df[\"totals.transactionRevenue\"])\nsubmission_df.columns = [\"fullVisitorId\", \"PredictedLogRevenue\"]\nsubmission_df.to_csv(\"baseline_lgb.csv\", index=False)\n",
      "execution_count": 14,
      "outputs": []
    },
    {
      "metadata": {
        "_uuid": "cf37f1abb68789034b17c7270c589eab347eb920"
      },
      "cell_type": "markdown",
      "source": "**Question 6:**\n\nRunning permutation tests to measure importance of features."
    },
    {
      "metadata": {
        "trusted": true,
        "_uuid": "31567bbab6112cf4c34b030d503c61aed4ecbe24"
      },
      "cell_type": "code",
      "source": "def permutation_test(X, y, testing_features):\n    X_train, X_val, y_train, y_val = train_test_split(X, y, test_size=0.2)\n    num_features = len(testing_features)\n    num_samples = X_train.shape[0]\n    p_values = np.zeros(num_features)\n    for i in range(num_features):\n        # Number of permutations per feature\n        print(testing_features[i])\n        N = 40\n        rmse_losses = np.zeros(N)           \n        \n        for j in range(0,N):\n            print(j)\n            X_train_shuffle = X_train.copy();\n            # For j=0, we will keep the original order as the true order\n            indexes_array = np.array(range(0,num_samples))\n            if (j>0):\n                np.random.shuffle(indexes_array)\n#            shuffle_values = X_train[testing_features[i]].iloc[indexes_array].values    \n#            X_train_shuffle.assign(testing_features[i] = shuffle_values)    \n            X_train_shuffle[testing_features[i]] = X_train_shuffle[testing_features[i]].iloc[indexes_array].values\n#            print(X_train_shuffle[testing_features[i]].head(10))\n#            print(X_train[testing_features[i]].head(10))\n#            print(X_train[testing_features[i]].iloc[indexes_array].head(10))\n            \n            # Training and evaluating models            \n            model_j = model(X_train_shuffle, y_train, X_val, y_val)\n            X_val_nouserID = X_val.loc[:, X_val.columns != 'fullVisitorId']\n            y_val_prediction = model_j.predict(X_val_nouserID, num_iteration=model_j.best_iteration)  \n            rmse_loss = np.sqrt(metrics.mean_squared_error(y_val_prediction, y_val))\n            rmse_losses[j] = rmse_loss\n            print(rmse_loss)\n            \n            # If having right order, save the value\n            if sum(indexes_array==np.array(range(0,num_samples))) == num_samples:\n                true_order_rmse_loss = rmse_loss\n        \n        # Calculating p_value\n        plt.hist(rmse_losses, bins = int(N*2))\n        plt.axvline(true_order_rmse_loss, color='k', linestyle='dashed', linewidth=1)\n        p_values[i] = sum(rmse_losses <= true_order_rmse_loss)/N\n        plt.title(testing_features[i] + \", N = \" + str(N) + \", p_value:\" + str(p_values[i]))\n        \n    return p_values, rmse_losses, true_order_rmse_loss, N    \n\n# Executing permutation test\ntesting_features = [\"geoNetwork.city\"]    \np_values, rmse_losses, true_order_rmse_loss, N = permutation_test(X, y, testing_features)\n\n# Ploting histogram\nplt.hist(rmse_losses, bins = int(N/3.5))\nplt.axvline(true_order_rmse_loss, color='k', linestyle='dashed', linewidth=1)\nplt.title(testing_features[0] + \", N = \" + str(N) + \", p_value:\" + str(p_values))\nplt.ylabel('Frequency')\nplt.xlabel('Loss')",
      "execution_count": null,
      "outputs": []
    }
  ],
  "metadata": {
    "kernelspec": {
      "display_name": "Python 3",
      "language": "python",
      "name": "python3"
    },
    "language_info": {
      "name": "python",
      "version": "3.6.6",
      "mimetype": "text/x-python",
      "codemirror_mode": {
        "name": "ipython",
        "version": 3
      },
      "pygments_lexer": "ipython3",
      "nbconvert_exporter": "python",
      "file_extension": ".py"
    }
  },
  "nbformat": 4,
  "nbformat_minor": 1
}